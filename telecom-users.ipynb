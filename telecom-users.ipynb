{
 "cells": [
  {
   "cell_type": "code",
   "execution_count": 1,
   "metadata": {
    "_cell_guid": "b1076dfc-b9ad-4769-8c92-a6c4dae69d19",
    "_uuid": "8f2839f25d086af736a60e9eeb907d3b93b6e0e5",
    "execution": {
     "iopub.execute_input": "2021-03-25T03:55:06.176743Z",
     "iopub.status.busy": "2021-03-25T03:55:06.176057Z",
     "iopub.status.idle": "2021-03-25T03:55:11.284945Z",
     "shell.execute_reply": "2021-03-25T03:55:11.283880Z"
    },
    "papermill": {
     "duration": 5.130013,
     "end_time": "2021-03-25T03:55:11.285153",
     "exception": false,
     "start_time": "2021-03-25T03:55:06.155140",
     "status": "completed"
    },
    "tags": []
   },
   "outputs": [
    {
     "data": {
      "text/html": [
       "<style type='text/css'>\n",
       ".datatable table.frame { margin-bottom: 0; }\n",
       ".datatable table.frame thead { border-bottom: none; }\n",
       ".datatable table.frame tr.coltypes td {  color: #FFFFFF;  line-height: 6px;  padding: 0 0.5em;}\n",
       ".datatable .bool    { background: #DDDD99; }\n",
       ".datatable .object  { background: #565656; }\n",
       ".datatable .int     { background: #5D9E5D; }\n",
       ".datatable .float   { background: #4040CC; }\n",
       ".datatable .str     { background: #CC4040; }\n",
       ".datatable .row_index {  background: var(--jp-border-color3);  border-right: 1px solid var(--jp-border-color0);  color: var(--jp-ui-font-color3);  font-size: 9px;}\n",
       ".datatable .frame tr.coltypes .row_index {  background: var(--jp-border-color0);}\n",
       ".datatable th:nth-child(2) { padding-left: 12px; }\n",
       ".datatable .hellipsis {  color: var(--jp-cell-editor-border-color);}\n",
       ".datatable .vellipsis {  background: var(--jp-layout-color0);  color: var(--jp-cell-editor-border-color);}\n",
       ".datatable .na {  color: var(--jp-cell-editor-border-color);  font-size: 80%;}\n",
       ".datatable .footer { font-size: 9px; }\n",
       ".datatable .frame_dimensions {  background: var(--jp-border-color3);  border-top: 1px solid var(--jp-border-color0);  color: var(--jp-ui-font-color3);  display: inline-block;  opacity: 0.6;  padding: 1px 10px 1px 5px;}\n",
       "</style>\n"
      ],
      "text/plain": [
       "<IPython.core.display.HTML object>"
      ]
     },
     "metadata": {},
     "output_type": "display_data"
    }
   ],
   "source": [
    "import pandas as pd\n",
    "import numpy as np\n",
    "import sklearn as sk\n",
    "import matplotlib.pyplot as plt\n",
    "import seaborn as sns\n",
    "from sklearn.model_selection import train_test_split\n",
    "from sklearn.metrics import plot_confusion_matrix\n",
    "from sklearn.ensemble import RandomForestClassifier\n",
    "from sklearn import metrics\n",
    "from xgboost import XGBClassifier\n",
    "from hyperopt import tpe, hp, fmin, STATUS_OK,Trials\n",
    "from hyperopt.pyll.base import scope\n",
    "from sklearn.ensemble import GradientBoostingClassifier\n",
    "import optuna\n",
    "\n",
    "from sklearn.model_selection import train_test_split\n",
    "from sklearn.metrics import roc_auc_score\n",
    "from sklearn.model_selection import KFold , StratifiedKFold\n",
    "import lightgbm\n",
    "from sklearn.metrics import confusion_matrix\n",
    "import warnings\n",
    "warnings.filterwarnings(\"ignore\")"
   ]
  },
  {
   "cell_type": "code",
   "execution_count": 2,
   "metadata": {
    "execution": {
     "iopub.execute_input": "2021-03-25T03:55:11.321824Z",
     "iopub.status.busy": "2021-03-25T03:55:11.321166Z",
     "iopub.status.idle": "2021-03-25T03:55:11.324014Z",
     "shell.execute_reply": "2021-03-25T03:55:11.323585Z"
    },
    "papermill": {
     "duration": 0.024206,
     "end_time": "2021-03-25T03:55:11.324120",
     "exception": false,
     "start_time": "2021-03-25T03:55:11.299914",
     "status": "completed"
    },
    "tags": []
   },
   "outputs": [],
   "source": [
    "def preprocess(df):\n",
    "\n",
    "    del df['Unnamed: 0']\n",
    "    del df['customerID']\n",
    "    df['TotalCharges']=pd.to_numeric(df['TotalCharges'],errors='coerce')\n",
    "    \n",
    "    \n",
    "    #Code labels\n",
    "\n",
    "    df[\"Churn\"].replace({\"Yes\": 1, \"No\": 0}, inplace=True)\n",
    "    df.dropna(axis=0,inplace=True)\n",
    "\n",
    "    for col in df.columns.tolist():\n",
    "        #print(col)\n",
    "        if df[col].dtype == object:\n",
    "            df[col] = df[col].fillna(df[col].mode()[0])\n",
    "            #Get Dummies\n",
    "            df = pd.get_dummies(df, columns=[col])\n",
    "        else:\n",
    "            df[col] = df[col].fillna(df[col].mean())   \n",
    "           \n",
    "        print(\"done col=\",col)\n",
    "    \n",
    "   \n",
    "    \n",
    "    \n",
    "    return df"
   ]
  },
  {
   "cell_type": "code",
   "execution_count": 3,
   "metadata": {
    "execution": {
     "iopub.execute_input": "2021-03-25T03:55:11.359612Z",
     "iopub.status.busy": "2021-03-25T03:55:11.359020Z",
     "iopub.status.idle": "2021-03-25T03:55:11.424286Z",
     "shell.execute_reply": "2021-03-25T03:55:11.423397Z"
    },
    "papermill": {
     "duration": 0.086484,
     "end_time": "2021-03-25T03:55:11.424406",
     "exception": false,
     "start_time": "2021-03-25T03:55:11.337922",
     "status": "completed"
    },
    "tags": []
   },
   "outputs": [
    {
     "data": {
      "text/html": [
       "<div>\n",
       "<style scoped>\n",
       "    .dataframe tbody tr th:only-of-type {\n",
       "        vertical-align: middle;\n",
       "    }\n",
       "\n",
       "    .dataframe tbody tr th {\n",
       "        vertical-align: top;\n",
       "    }\n",
       "\n",
       "    .dataframe thead th {\n",
       "        text-align: right;\n",
       "    }\n",
       "</style>\n",
       "<table border=\"1\" class=\"dataframe\">\n",
       "  <thead>\n",
       "    <tr style=\"text-align: right;\">\n",
       "      <th></th>\n",
       "      <th>Unnamed: 0</th>\n",
       "      <th>customerID</th>\n",
       "      <th>gender</th>\n",
       "      <th>SeniorCitizen</th>\n",
       "      <th>Partner</th>\n",
       "      <th>Dependents</th>\n",
       "      <th>tenure</th>\n",
       "      <th>PhoneService</th>\n",
       "      <th>MultipleLines</th>\n",
       "      <th>InternetService</th>\n",
       "      <th>...</th>\n",
       "      <th>DeviceProtection</th>\n",
       "      <th>TechSupport</th>\n",
       "      <th>StreamingTV</th>\n",
       "      <th>StreamingMovies</th>\n",
       "      <th>Contract</th>\n",
       "      <th>PaperlessBilling</th>\n",
       "      <th>PaymentMethod</th>\n",
       "      <th>MonthlyCharges</th>\n",
       "      <th>TotalCharges</th>\n",
       "      <th>Churn</th>\n",
       "    </tr>\n",
       "  </thead>\n",
       "  <tbody>\n",
       "    <tr>\n",
       "      <th>0</th>\n",
       "      <td>1869</td>\n",
       "      <td>7010-BRBUU</td>\n",
       "      <td>Male</td>\n",
       "      <td>0</td>\n",
       "      <td>Yes</td>\n",
       "      <td>Yes</td>\n",
       "      <td>72</td>\n",
       "      <td>Yes</td>\n",
       "      <td>Yes</td>\n",
       "      <td>No</td>\n",
       "      <td>...</td>\n",
       "      <td>No internet service</td>\n",
       "      <td>No internet service</td>\n",
       "      <td>No internet service</td>\n",
       "      <td>No internet service</td>\n",
       "      <td>Two year</td>\n",
       "      <td>No</td>\n",
       "      <td>Credit card (automatic)</td>\n",
       "      <td>24.10</td>\n",
       "      <td>1734.65</td>\n",
       "      <td>No</td>\n",
       "    </tr>\n",
       "    <tr>\n",
       "      <th>1</th>\n",
       "      <td>4528</td>\n",
       "      <td>9688-YGXVR</td>\n",
       "      <td>Female</td>\n",
       "      <td>0</td>\n",
       "      <td>No</td>\n",
       "      <td>No</td>\n",
       "      <td>44</td>\n",
       "      <td>Yes</td>\n",
       "      <td>No</td>\n",
       "      <td>Fiber optic</td>\n",
       "      <td>...</td>\n",
       "      <td>Yes</td>\n",
       "      <td>No</td>\n",
       "      <td>Yes</td>\n",
       "      <td>No</td>\n",
       "      <td>Month-to-month</td>\n",
       "      <td>Yes</td>\n",
       "      <td>Credit card (automatic)</td>\n",
       "      <td>88.15</td>\n",
       "      <td>3973.2</td>\n",
       "      <td>No</td>\n",
       "    </tr>\n",
       "    <tr>\n",
       "      <th>2</th>\n",
       "      <td>6344</td>\n",
       "      <td>9286-DOJGF</td>\n",
       "      <td>Female</td>\n",
       "      <td>1</td>\n",
       "      <td>Yes</td>\n",
       "      <td>No</td>\n",
       "      <td>38</td>\n",
       "      <td>Yes</td>\n",
       "      <td>Yes</td>\n",
       "      <td>Fiber optic</td>\n",
       "      <td>...</td>\n",
       "      <td>No</td>\n",
       "      <td>No</td>\n",
       "      <td>No</td>\n",
       "      <td>No</td>\n",
       "      <td>Month-to-month</td>\n",
       "      <td>Yes</td>\n",
       "      <td>Bank transfer (automatic)</td>\n",
       "      <td>74.95</td>\n",
       "      <td>2869.85</td>\n",
       "      <td>Yes</td>\n",
       "    </tr>\n",
       "    <tr>\n",
       "      <th>3</th>\n",
       "      <td>6739</td>\n",
       "      <td>6994-KERXL</td>\n",
       "      <td>Male</td>\n",
       "      <td>0</td>\n",
       "      <td>No</td>\n",
       "      <td>No</td>\n",
       "      <td>4</td>\n",
       "      <td>Yes</td>\n",
       "      <td>No</td>\n",
       "      <td>DSL</td>\n",
       "      <td>...</td>\n",
       "      <td>No</td>\n",
       "      <td>No</td>\n",
       "      <td>No</td>\n",
       "      <td>Yes</td>\n",
       "      <td>Month-to-month</td>\n",
       "      <td>Yes</td>\n",
       "      <td>Electronic check</td>\n",
       "      <td>55.90</td>\n",
       "      <td>238.5</td>\n",
       "      <td>No</td>\n",
       "    </tr>\n",
       "    <tr>\n",
       "      <th>4</th>\n",
       "      <td>432</td>\n",
       "      <td>2181-UAESM</td>\n",
       "      <td>Male</td>\n",
       "      <td>0</td>\n",
       "      <td>No</td>\n",
       "      <td>No</td>\n",
       "      <td>2</td>\n",
       "      <td>Yes</td>\n",
       "      <td>No</td>\n",
       "      <td>DSL</td>\n",
       "      <td>...</td>\n",
       "      <td>Yes</td>\n",
       "      <td>No</td>\n",
       "      <td>No</td>\n",
       "      <td>No</td>\n",
       "      <td>Month-to-month</td>\n",
       "      <td>No</td>\n",
       "      <td>Electronic check</td>\n",
       "      <td>53.45</td>\n",
       "      <td>119.5</td>\n",
       "      <td>No</td>\n",
       "    </tr>\n",
       "  </tbody>\n",
       "</table>\n",
       "<p>5 rows × 22 columns</p>\n",
       "</div>"
      ],
      "text/plain": [
       "   Unnamed: 0  customerID  gender  SeniorCitizen Partner Dependents  tenure  \\\n",
       "0        1869  7010-BRBUU    Male              0     Yes        Yes      72   \n",
       "1        4528  9688-YGXVR  Female              0      No         No      44   \n",
       "2        6344  9286-DOJGF  Female              1     Yes         No      38   \n",
       "3        6739  6994-KERXL    Male              0      No         No       4   \n",
       "4         432  2181-UAESM    Male              0      No         No       2   \n",
       "\n",
       "  PhoneService MultipleLines InternetService  ...     DeviceProtection  \\\n",
       "0          Yes           Yes              No  ...  No internet service   \n",
       "1          Yes            No     Fiber optic  ...                  Yes   \n",
       "2          Yes           Yes     Fiber optic  ...                   No   \n",
       "3          Yes            No             DSL  ...                   No   \n",
       "4          Yes            No             DSL  ...                  Yes   \n",
       "\n",
       "           TechSupport          StreamingTV      StreamingMovies  \\\n",
       "0  No internet service  No internet service  No internet service   \n",
       "1                   No                  Yes                   No   \n",
       "2                   No                   No                   No   \n",
       "3                   No                   No                  Yes   \n",
       "4                   No                   No                   No   \n",
       "\n",
       "         Contract PaperlessBilling              PaymentMethod MonthlyCharges  \\\n",
       "0        Two year               No    Credit card (automatic)          24.10   \n",
       "1  Month-to-month              Yes    Credit card (automatic)          88.15   \n",
       "2  Month-to-month              Yes  Bank transfer (automatic)          74.95   \n",
       "3  Month-to-month              Yes           Electronic check          55.90   \n",
       "4  Month-to-month               No           Electronic check          53.45   \n",
       "\n",
       "  TotalCharges  Churn  \n",
       "0      1734.65     No  \n",
       "1       3973.2     No  \n",
       "2      2869.85    Yes  \n",
       "3        238.5     No  \n",
       "4        119.5     No  \n",
       "\n",
       "[5 rows x 22 columns]"
      ]
     },
     "execution_count": 3,
     "metadata": {},
     "output_type": "execute_result"
    }
   ],
   "source": [
    "# Loading data\n",
    "data = pd.read_csv('../input/telecom-users-dataset/telecom_users.csv')\n",
    "data.head()"
   ]
  },
  {
   "cell_type": "code",
   "execution_count": 4,
   "metadata": {
    "execution": {
     "iopub.execute_input": "2021-03-25T03:55:11.474204Z",
     "iopub.status.busy": "2021-03-25T03:55:11.473060Z",
     "iopub.status.idle": "2021-03-25T03:55:11.586839Z",
     "shell.execute_reply": "2021-03-25T03:55:11.586277Z"
    },
    "papermill": {
     "duration": 0.148021,
     "end_time": "2021-03-25T03:55:11.586967",
     "exception": false,
     "start_time": "2021-03-25T03:55:11.438946",
     "status": "completed"
    },
    "tags": []
   },
   "outputs": [
    {
     "data": {
      "text/plain": [
       "<AxesSubplot:xlabel='Churn', ylabel='count'>"
      ]
     },
     "execution_count": 4,
     "metadata": {},
     "output_type": "execute_result"
    },
    {
     "data": {
      "image/png": "[encoded data removed]",
      "text/plain": [
       "<Figure size 576x432 with 1 Axes>"
      ]
     },
     "metadata": {
      "needs_background": "light"
     },
     "output_type": "display_data"
    }
   ],
   "source": [
    "fig, ax = plt.subplots(figsize=(8, 6))\n",
    "sns.countplot(x=data['Churn'],ax=ax)"
   ]
  },
  {
   "cell_type": "markdown",
   "metadata": {
    "papermill": {
     "duration": 0.01556,
     "end_time": "2021-03-25T03:55:11.618086",
     "exception": false,
     "start_time": "2021-03-25T03:55:11.602526",
     "status": "completed"
    },
    "tags": []
   },
   "source": [
    "Figure above demonstrates that our dataset is imbalanced in terms of number of Churned obs. But, in still worth trying to build model without resampling."
   ]
  },
  {
   "cell_type": "code",
   "execution_count": 5,
   "metadata": {
    "execution": {
     "iopub.execute_input": "2021-03-25T03:55:11.667194Z",
     "iopub.status.busy": "2021-03-25T03:55:11.666397Z",
     "iopub.status.idle": "2021-03-25T03:55:11.782965Z",
     "shell.execute_reply": "2021-03-25T03:55:11.782501Z"
    },
    "papermill": {
     "duration": 0.149617,
     "end_time": "2021-03-25T03:55:11.783076",
     "exception": false,
     "start_time": "2021-03-25T03:55:11.633459",
     "status": "completed"
    },
    "tags": []
   },
   "outputs": [
    {
     "data": {
      "text/plain": [
       "<AxesSubplot:xlabel='gender', ylabel='count'>"
      ]
     },
     "execution_count": 5,
     "metadata": {},
     "output_type": "execute_result"
    },
    {
     "data": {
      "image/png": "[encoded data removed]",
      "text/plain": [
       "<Figure size 576x432 with 1 Axes>"
      ]
     },
     "metadata": {
      "needs_background": "light"
     },
     "output_type": "display_data"
    }
   ],
   "source": [
    "fig, ax = plt.subplots(figsize=(8, 6))\n",
    "sns.countplot(x=data['gender'], hue=data['Churn'],ax=ax)"
   ]
  },
  {
   "cell_type": "markdown",
   "metadata": {
    "papermill": {
     "duration": 0.016323,
     "end_time": "2021-03-25T03:55:11.816623",
     "exception": false,
     "start_time": "2021-03-25T03:55:11.800300",
     "status": "completed"
    },
    "tags": []
   },
   "source": [
    "Regarding gender of an user, its evident that number of churns remains stable across all genders"
   ]
  },
  {
   "cell_type": "code",
   "execution_count": 6,
   "metadata": {
    "execution": {
     "iopub.execute_input": "2021-03-25T03:55:11.875800Z",
     "iopub.status.busy": "2021-03-25T03:55:11.874982Z",
     "iopub.status.idle": "2021-03-25T03:55:12.121848Z",
     "shell.execute_reply": "2021-03-25T03:55:12.122871Z"
    },
    "papermill": {
     "duration": 0.290164,
     "end_time": "2021-03-25T03:55:12.123140",
     "exception": false,
     "start_time": "2021-03-25T03:55:11.832976",
     "status": "completed"
    },
    "tags": []
   },
   "outputs": [
    {
     "data": {
      "text/plain": [
       "<AxesSubplot:xlabel='InternetService', ylabel='count'>"
      ]
     },
     "execution_count": 6,
     "metadata": {},
     "output_type": "execute_result"
    },
    {
     "data": {
      "image/png": "[encoded data removed]",
      "text/plain": [
       "<Figure size 576x432 with 1 Axes>"
      ]
     },
     "metadata": {
      "needs_background": "light"
     },
     "output_type": "display_data"
    }
   ],
   "source": [
    "fig, ax = plt.subplots(figsize=(8, 6))\n",
    "sns.countplot(x=data['InternetService'], hue=data['Churn'],ax=ax)"
   ]
  },
  {
   "cell_type": "code",
   "execution_count": 7,
   "metadata": {
    "execution": {
     "iopub.execute_input": "2021-03-25T03:55:12.194258Z",
     "iopub.status.busy": "2021-03-25T03:55:12.193512Z",
     "iopub.status.idle": "2021-03-25T03:55:12.405766Z",
     "shell.execute_reply": "2021-03-25T03:55:12.406716Z"
    },
    "papermill": {
     "duration": 0.253357,
     "end_time": "2021-03-25T03:55:12.406909",
     "exception": false,
     "start_time": "2021-03-25T03:55:12.153552",
     "status": "completed"
    },
    "tags": []
   },
   "outputs": [
    {
     "data": {
      "text/plain": [
       "<AxesSubplot:xlabel='PhoneService', ylabel='count'>"
      ]
     },
     "execution_count": 7,
     "metadata": {},
     "output_type": "execute_result"
    },
    {
     "data": {
      "image/png": "[encoded data removed]",
      "text/plain": [
       "<Figure size 576x432 with 1 Axes>"
      ]
     },
     "metadata": {
      "needs_background": "light"
     },
     "output_type": "display_data"
    }
   ],
   "source": [
    "fig, ax = plt.subplots(figsize=(8, 6))\n",
    "sns.countplot(x=data['PhoneService'], hue=data['Churn'],ax=ax)"
   ]
  },
  {
   "cell_type": "code",
   "execution_count": 8,
   "metadata": {
    "execution": {
     "iopub.execute_input": "2021-03-25T03:55:12.497104Z",
     "iopub.status.busy": "2021-03-25T03:55:12.490518Z",
     "iopub.status.idle": "2021-03-25T03:55:12.634966Z",
     "shell.execute_reply": "2021-03-25T03:55:12.634480Z"
    },
    "papermill": {
     "duration": 0.198367,
     "end_time": "2021-03-25T03:55:12.635082",
     "exception": false,
     "start_time": "2021-03-25T03:55:12.436715",
     "status": "completed"
    },
    "tags": []
   },
   "outputs": [
    {
     "data": {
      "text/plain": [
       "<AxesSubplot:xlabel='StreamingMovies', ylabel='count'>"
      ]
     },
     "execution_count": 8,
     "metadata": {},
     "output_type": "execute_result"
    },
    {
     "data": {
      "image/png": "[encoded data removed]",
      "text/plain": [
       "<Figure size 576x432 with 1 Axes>"
      ]
     },
     "metadata": {
      "needs_background": "light"
     },
     "output_type": "display_data"
    }
   ],
   "source": [
    "fig, ax = plt.subplots(figsize=(8, 6))\n",
    "sns.countplot(x=data['StreamingMovies'], hue=data['Churn'],ax=ax)"
   ]
  },
  {
   "cell_type": "markdown",
   "metadata": {
    "papermill": {
     "duration": 0.019482,
     "end_time": "2021-03-25T03:55:12.674200",
     "exception": false,
     "start_time": "2021-03-25T03:55:12.654718",
     "status": "completed"
    },
    "tags": []
   },
   "source": [
    "Figure above shows that users without internet service are less likely to stop using telecom, due to their inability to access internet without telecom service."
   ]
  },
  {
   "cell_type": "code",
   "execution_count": 9,
   "metadata": {
    "execution": {
     "iopub.execute_input": "2021-03-25T03:55:12.732934Z",
     "iopub.status.busy": "2021-03-25T03:55:12.730049Z",
     "iopub.status.idle": "2021-03-25T03:55:12.888361Z",
     "shell.execute_reply": "2021-03-25T03:55:12.888794Z"
    },
    "papermill": {
     "duration": 0.19542,
     "end_time": "2021-03-25T03:55:12.888931",
     "exception": false,
     "start_time": "2021-03-25T03:55:12.693511",
     "status": "completed"
    },
    "tags": []
   },
   "outputs": [
    {
     "data": {
      "image/png": "[encoded data removed]",
      "text/plain": [
       "<Figure size 576x432 with 1 Axes>"
      ]
     },
     "metadata": {
      "needs_background": "light"
     },
     "output_type": "display_data"
    }
   ],
   "source": [
    "fig, ax = plt.subplots(figsize=(8, 6))\n",
    "sns.countplot(x=data['StreamingMovies'], hue=data['InternetService'],ax=ax)\n",
    "plt.show()"
   ]
  },
  {
   "cell_type": "code",
   "execution_count": 10,
   "metadata": {
    "execution": {
     "iopub.execute_input": "2021-03-25T03:55:12.944837Z",
     "iopub.status.busy": "2021-03-25T03:55:12.944017Z",
     "iopub.status.idle": "2021-03-25T03:55:12.955382Z",
     "shell.execute_reply": "2021-03-25T03:55:12.955872Z"
    },
    "papermill": {
     "duration": 0.046578,
     "end_time": "2021-03-25T03:55:12.956005",
     "exception": false,
     "start_time": "2021-03-25T03:55:12.909427",
     "status": "completed"
    },
    "tags": []
   },
   "outputs": [
    {
     "name": "stdout",
     "output_type": "stream",
     "text": [
      "<class 'pandas.core.frame.DataFrame'>\n",
      "RangeIndex: 5986 entries, 0 to 5985\n",
      "Data columns (total 22 columns):\n",
      " #   Column            Non-Null Count  Dtype  \n",
      "---  ------            --------------  -----  \n",
      " 0   Unnamed: 0        5986 non-null   int64  \n",
      " 1   customerID        5986 non-null   object \n",
      " 2   gender            5986 non-null   object \n",
      " 3   SeniorCitizen     5986 non-null   int64  \n",
      " 4   Partner           5986 non-null   object \n",
      " 5   Dependents        5986 non-null   object \n",
      " 6   tenure            5986 non-null   int64  \n",
      " 7   PhoneService      5986 non-null   object \n",
      " 8   MultipleLines     5986 non-null   object \n",
      " 9   InternetService   5986 non-null   object \n",
      " 10  OnlineSecurity    5986 non-null   object \n",
      " 11  OnlineBackup      5986 non-null   object \n",
      " 12  DeviceProtection  5986 non-null   object \n",
      " 13  TechSupport       5986 non-null   object \n",
      " 14  StreamingTV       5986 non-null   object \n",
      " 15  StreamingMovies   5986 non-null   object \n",
      " 16  Contract          5986 non-null   object \n",
      " 17  PaperlessBilling  5986 non-null   object \n",
      " 18  PaymentMethod     5986 non-null   object \n",
      " 19  MonthlyCharges    5986 non-null   float64\n",
      " 20  TotalCharges      5986 non-null   object \n",
      " 21  Churn             5986 non-null   object \n",
      "dtypes: float64(1), int64(3), object(18)\n",
      "memory usage: 1.0+ MB\n"
     ]
    }
   ],
   "source": [
    "data.info()"
   ]
  },
  {
   "cell_type": "code",
   "execution_count": 11,
   "metadata": {
    "execution": {
     "iopub.execute_input": "2021-03-25T03:55:13.005952Z",
     "iopub.status.busy": "2021-03-25T03:55:13.005207Z",
     "iopub.status.idle": "2021-03-25T03:55:13.139548Z",
     "shell.execute_reply": "2021-03-25T03:55:13.139129Z"
    },
    "papermill": {
     "duration": 0.162512,
     "end_time": "2021-03-25T03:55:13.139699",
     "exception": false,
     "start_time": "2021-03-25T03:55:12.977187",
     "status": "completed"
    },
    "tags": []
   },
   "outputs": [
    {
     "name": "stdout",
     "output_type": "stream",
     "text": [
      "done col= gender\n",
      "done col= SeniorCitizen\n",
      "done col= Partner\n",
      "done col= Dependents\n",
      "done col= tenure\n",
      "done col= PhoneService\n",
      "done col= MultipleLines\n",
      "done col= InternetService\n",
      "done col= OnlineSecurity\n",
      "done col= OnlineBackup\n",
      "done col= DeviceProtection\n",
      "done col= TechSupport\n",
      "done col= StreamingTV\n",
      "done col= StreamingMovies\n",
      "done col= Contract\n",
      "done col= PaperlessBilling\n",
      "done col= PaymentMethod\n",
      "done col= MonthlyCharges\n",
      "done col= TotalCharges\n",
      "done col= Churn\n"
     ]
    }
   ],
   "source": [
    "data = preprocess(data)"
   ]
  },
  {
   "cell_type": "code",
   "execution_count": 12,
   "metadata": {
    "execution": {
     "iopub.execute_input": "2021-03-25T03:55:13.188530Z",
     "iopub.status.busy": "2021-03-25T03:55:13.187688Z",
     "iopub.status.idle": "2021-03-25T03:55:13.192491Z",
     "shell.execute_reply": "2021-03-25T03:55:13.192086Z"
    },
    "papermill": {
     "duration": 0.03045,
     "end_time": "2021-03-25T03:55:13.192608",
     "exception": false,
     "start_time": "2021-03-25T03:55:13.162158",
     "status": "completed"
    },
    "tags": []
   },
   "outputs": [],
   "source": [
    "labels = data['Churn']\n",
    "del data['Churn']\n",
    "X_train,X_test,y_train,y_test = sk.model_selection.train_test_split(data,labels)"
   ]
  },
  {
   "cell_type": "code",
   "execution_count": 13,
   "metadata": {
    "execution": {
     "iopub.execute_input": "2021-03-25T03:55:13.242469Z",
     "iopub.status.busy": "2021-03-25T03:55:13.241676Z",
     "iopub.status.idle": "2021-03-25T03:55:14.366765Z",
     "shell.execute_reply": "2021-03-25T03:55:14.367181Z"
    },
    "papermill": {
     "duration": 1.153566,
     "end_time": "2021-03-25T03:55:14.367326",
     "exception": false,
     "start_time": "2021-03-25T03:55:13.213760",
     "status": "completed"
    },
    "tags": []
   },
   "outputs": [
    {
     "data": {
      "image/png": "[encoded data removed]",
      "text/plain": [
       "<Figure size 432x288 with 1 Axes>"
      ]
     },
     "metadata": {
      "needs_background": "light"
     },
     "output_type": "display_data"
    }
   ],
   "source": [
    "# Feature selection using select from model\n",
    "\n",
    "import numpy as np\n",
    "from sklearn.linear_model import LassoCV\n",
    "\n",
    "lasso = RandomForestClassifier().fit(X_train, y_train)\n",
    "importance = np.abs(lasso.feature_importances_)\n",
    "feature_names = X_train.columns.tolist()\n",
    "(pd.Series(lasso.feature_importances_, index=X_train.columns)\n",
    "   .nlargest(4)\n",
    "   .plot(kind='barh')) \n",
    "\n",
    "\n",
    "#Feature selection from model Lasso\n",
    "from sklearn.feature_selection import SelectFromModel\n",
    "from time import time\n",
    "\n",
    "threshold = np.sort(importance)[-40] + 0.01\n",
    "\n",
    "tic = time()\n",
    "sfm = SelectFromModel(lasso, threshold=threshold).fit(X_train, y_train)\n",
    "\n"
   ]
  },
  {
   "cell_type": "code",
   "execution_count": 14,
   "metadata": {
    "execution": {
     "iopub.execute_input": "2021-03-25T03:55:14.418396Z",
     "iopub.status.busy": "2021-03-25T03:55:14.417601Z",
     "iopub.status.idle": "2021-03-25T03:55:14.646370Z",
     "shell.execute_reply": "2021-03-25T03:55:14.645894Z"
    },
    "papermill": {
     "duration": 0.25668,
     "end_time": "2021-03-25T03:55:14.646504",
     "exception": false,
     "start_time": "2021-03-25T03:55:14.389824",
     "status": "completed"
    },
    "tags": []
   },
   "outputs": [],
   "source": [
    "X_transform = sfm.transform(data)\n",
    "\n",
    "# Oversampling with smote\n",
    "from imblearn.over_sampling import SMOTE\n",
    "oversample = SMOTE()\n",
    "X_transform, labels = oversample.fit_resample(X_transform, labels)\n",
    "\n",
    "\n",
    "X_train,X_test,y_train,y_test = sk.model_selection.train_test_split(X_transform,labels)"
   ]
  },
  {
   "cell_type": "code",
   "execution_count": 15,
   "metadata": {
    "execution": {
     "iopub.execute_input": "2021-03-25T03:55:14.696709Z",
     "iopub.status.busy": "2021-03-25T03:55:14.695859Z",
     "iopub.status.idle": "2021-03-25T03:55:15.582562Z",
     "shell.execute_reply": "2021-03-25T03:55:15.581723Z"
    },
    "papermill": {
     "duration": 0.914099,
     "end_time": "2021-03-25T03:55:15.582749",
     "exception": false,
     "start_time": "2021-03-25T03:55:14.668650",
     "status": "completed"
    },
    "tags": []
   },
   "outputs": [
    {
     "name": "stdout",
     "output_type": "stream",
     "text": [
      "Selected Features\n",
      "SeniorCitizen\n",
      "tenure\n",
      "MonthlyCharges\n",
      "TotalCharges\n",
      "gender_Female\n",
      "gender_Male\n",
      "Partner_No\n",
      "Partner_Yes\n",
      "MultipleLines_No\n",
      "MultipleLines_Yes\n",
      "InternetService_Fiber optic\n",
      "OnlineSecurity_No\n",
      "OnlineBackup_No\n",
      "DeviceProtection_No\n",
      "TechSupport_No\n",
      "TechSupport_Yes\n",
      "Contract_Month-to-month\n",
      "Contract_Two year\n",
      "PaperlessBilling_No\n",
      "PaperlessBilling_Yes\n",
      "PaymentMethod_Electronic check\n"
     ]
    }
   ],
   "source": [
    "print(\"Selected Features\")\n",
    "\n",
    "for i in range(0,len(sfm.get_support())):\n",
    "    if sfm.get_support()[i]==True:\n",
    "       print(data.columns.tolist()[i])"
   ]
  },
  {
   "cell_type": "code",
   "execution_count": 16,
   "metadata": {
    "execution": {
     "iopub.execute_input": "2021-03-25T03:55:15.639204Z",
     "iopub.status.busy": "2021-03-25T03:55:15.638465Z",
     "iopub.status.idle": "2021-03-25T03:55:15.641189Z",
     "shell.execute_reply": "2021-03-25T03:55:15.640793Z"
    },
    "papermill": {
     "duration": 0.034362,
     "end_time": "2021-03-25T03:55:15.641297",
     "exception": false,
     "start_time": "2021-03-25T03:55:15.606935",
     "status": "completed"
    },
    "tags": []
   },
   "outputs": [],
   "source": [
    "# Tuning with optuna\n",
    "def objective(trial , data = X_transform , target = labels):\n",
    "    X_train , X_test , y_train , y_test = train_test_split(data , target , \\\n",
    "            test_size = 0.31 , random_state = 420)\n",
    "    \n",
    "    params = {\n",
    "        'reg_alpha' : trial.suggest_loguniform('reg_alpha' , 1e-5 , 10),\n",
    "        'reg_lambda' : trial.suggest_loguniform('reg_lambda' , 1e-5 , 10),\n",
    "        'num_leaves' : trial.suggest_int('num_leaves' , 11 , 300),\n",
    "        'learning_rate' : trial.suggest_uniform('learning_rate' , 0 , 0.1),\n",
    "        'max_depth' : trial.suggest_int('max_depth' , 5 , 20),\n",
    "        'n_estimators' : trial.suggest_int('n_estimators' , 1 , 9999),\n",
    "        'min_child_samples' : trial.suggest_int('min_child_samples' , 1 , 100),\n",
    "        'min_child_weight' : trial.suggest_loguniform('min_child_weight' , 1e-5 , 1),\n",
    "        'subsample' : trial.suggest_uniform('subsample' , 0 , 1.0),\n",
    "        'colsample_bytree' : trial.suggest_loguniform('colsample_bytree' , 1e-5 , 1),\n",
    "        'random_state' : trial.suggest_categorical('random_state' , [0,42,2021,555]),\n",
    "        'metric' : 'auc',\n",
    "        'device_type' : 'gpu',\n",
    "        #'tree_method': 'gpu_hist',\n",
    "        #'eval_metric': 'logloss' \n",
    "    }\n",
    "    model = lightgbm.LGBMClassifier(**params)\n",
    "    model.fit(X_train , y_train)\n",
    "    preds = model.predict(X_test)\n",
    "    tn, fp, fn, tp = confusion_matrix(y_test,preds).ravel()\n",
    "    score = tp/(tp+fp)\n",
    "\n",
    "    return score"
   ]
  },
  {
   "cell_type": "code",
   "execution_count": 17,
   "metadata": {
    "execution": {
     "iopub.execute_input": "2021-03-25T03:55:15.692225Z",
     "iopub.status.busy": "2021-03-25T03:55:15.691444Z",
     "iopub.status.idle": "2021-03-25T03:57:39.103085Z",
     "shell.execute_reply": "2021-03-25T03:57:39.102434Z"
    },
    "papermill": {
     "duration": 143.438744,
     "end_time": "2021-03-25T03:57:39.103262",
     "exception": false,
     "start_time": "2021-03-25T03:55:15.664518",
     "status": "completed"
    },
    "tags": []
   },
   "outputs": [
    {
     "name": "stderr",
     "output_type": "stream",
     "text": [
      "\u001b[32m[I 2021-03-25 03:55:15,690]\u001b[0m A new study created in memory with name: Gbt\u001b[0m\n",
      "\u001b[32m[I 2021-03-25 03:55:56,025]\u001b[0m Trial 0 finished with value: 0.8477272727272728 and parameters: {'reg_alpha': 2.3077939404386842e-05, 'reg_lambda': 1.421945092349684, 'num_leaves': 55, 'learning_rate': 0.047538631418534316, 'max_depth': 11, 'n_estimators': 5214, 'min_child_samples': 8, 'min_child_weight': 0.0010356367886300616, 'subsample': 0.3668594494101882, 'colsample_bytree': 0.6090068959020448, 'random_state': 2021}. Best is trial 0 with value: 0.8477272727272728.\u001b[0m\n",
      "\u001b[32m[I 2021-03-25 03:56:00,843]\u001b[0m Trial 1 finished with value: 0.8681572860447185 and parameters: {'reg_alpha': 2.1940761011629495, 'reg_lambda': 0.026203613691357437, 'num_leaves': 141, 'learning_rate': 0.08253751224081417, 'max_depth': 13, 'n_estimators': 5496, 'min_child_samples': 7, 'min_child_weight': 0.17766373138191746, 'subsample': 0.05916629226977199, 'colsample_bytree': 0.000451744715619963, 'random_state': 0}. Best is trial 1 with value: 0.8681572860447185.\u001b[0m\n",
      "\u001b[32m[I 2021-03-25 03:56:08,776]\u001b[0m Trial 2 finished with value: 0.8598922247882987 and parameters: {'reg_alpha': 0.002988961322439015, 'reg_lambda': 5.492105457494285, 'num_leaves': 237, 'learning_rate': 0.06519531385524589, 'max_depth': 6, 'n_estimators': 9821, 'min_child_samples': 51, 'min_child_weight': 0.4159781149399168, 'subsample': 0.3465930572070962, 'colsample_bytree': 0.00020432060369436606, 'random_state': 0}. Best is trial 1 with value: 0.8681572860447185.\u001b[0m\n",
      "\u001b[32m[I 2021-03-25 03:56:09,761]\u001b[0m Trial 3 finished with value: 0.8712413261372398 and parameters: {'reg_alpha': 1.037722064315651, 'reg_lambda': 1.2064337096637467e-05, 'num_leaves': 53, 'learning_rate': 0.05898870376014283, 'max_depth': 8, 'n_estimators': 467, 'min_child_samples': 14, 'min_child_weight': 0.017295685549488297, 'subsample': 0.23307939973683267, 'colsample_bytree': 0.08678358084176335, 'random_state': 42}. Best is trial 3 with value: 0.8712413261372398.\u001b[0m\n",
      "\u001b[32m[I 2021-03-25 03:56:24,823]\u001b[0m Trial 4 finished with value: 0.8487332339791356 and parameters: {'reg_alpha': 1.0911579740156563, 'reg_lambda': 2.022487094797656, 'num_leaves': 191, 'learning_rate': 0.05161849445624898, 'max_depth': 17, 'n_estimators': 9621, 'min_child_samples': 59, 'min_child_weight': 0.25296359784799516, 'subsample': 0.3320621686165123, 'colsample_bytree': 0.08295573046020384, 'random_state': 555}. Best is trial 3 with value: 0.8712413261372398.\u001b[0m\n",
      "\u001b[32m[I 2021-03-25 03:56:35,903]\u001b[0m Trial 5 finished with value: 0.849811320754717 and parameters: {'reg_alpha': 0.0026904740314619173, 'reg_lambda': 7.975531373310445, 'num_leaves': 213, 'learning_rate': 0.061700398887057, 'max_depth': 18, 'n_estimators': 1404, 'min_child_samples': 50, 'min_child_weight': 1.0703181016193036e-05, 'subsample': 0.6050403703356726, 'colsample_bytree': 0.6880310521405392, 'random_state': 0}. Best is trial 3 with value: 0.8712413261372398.\u001b[0m\n",
      "\u001b[32m[I 2021-03-25 03:56:43,981]\u001b[0m Trial 6 finished with value: 0.8681148176881304 and parameters: {'reg_alpha': 1.2881895976351265, 'reg_lambda': 0.4564810258835088, 'num_leaves': 47, 'learning_rate': 0.042926277203378875, 'max_depth': 6, 'n_estimators': 9155, 'min_child_samples': 3, 'min_child_weight': 0.0017690107533234849, 'subsample': 0.9211868563328409, 'colsample_bytree': 1.766804379176804e-05, 'random_state': 0}. Best is trial 3 with value: 0.8712413261372398.\u001b[0m\n",
      "\u001b[32m[I 2021-03-25 03:56:46,601]\u001b[0m Trial 7 finished with value: 0.8628659476117103 and parameters: {'reg_alpha': 1.06394100694855e-05, 'reg_lambda': 2.4192037796093944e-05, 'num_leaves': 145, 'learning_rate': 0.06213168535892737, 'max_depth': 7, 'n_estimators': 1566, 'min_child_samples': 40, 'min_child_weight': 0.0010427940412276954, 'subsample': 0.7272604527182223, 'colsample_bytree': 1.7551387191044958e-05, 'random_state': 42}. Best is trial 3 with value: 0.8712413261372398.\u001b[0m\n",
      "\u001b[32m[I 2021-03-25 03:56:54,074]\u001b[0m Trial 8 finished with value: 0.8683602771362586 and parameters: {'reg_alpha': 1.6586251878354725e-05, 'reg_lambda': 4.694178596800693, 'num_leaves': 161, 'learning_rate': 0.012629228449602514, 'max_depth': 6, 'n_estimators': 8488, 'min_child_samples': 70, 'min_child_weight': 0.8788146927568162, 'subsample': 0.11022154322489519, 'colsample_bytree': 0.005989491281762408, 'random_state': 42}. Best is trial 3 with value: 0.8712413261372398.\u001b[0m\n",
      "\u001b[32m[I 2021-03-25 03:56:59,166]\u001b[0m Trial 9 finished with value: 0.8592195868400918 and parameters: {'reg_alpha': 2.935477613345344e-05, 'reg_lambda': 0.7988507536128826, 'num_leaves': 103, 'learning_rate': 0.09333791681504, 'max_depth': 16, 'n_estimators': 5043, 'min_child_samples': 97, 'min_child_weight': 0.17901113482424008, 'subsample': 0.18281712523368154, 'colsample_bytree': 0.00012592248392351892, 'random_state': 555}. Best is trial 3 with value: 0.8712413261372398.\u001b[0m\n",
      "\u001b[32m[I 2021-03-25 03:56:59,668]\u001b[0m Trial 10 finished with value: 0.8734177215189873 and parameters: {'reg_alpha': 0.0726276004950671, 'reg_lambda': 2.4208466413057508e-05, 'num_leaves': 11, 'learning_rate': 0.01961139990039138, 'max_depth': 10, 'n_estimators': 396, 'min_child_samples': 26, 'min_child_weight': 0.01728420279040446, 'subsample': 0.5332761260597386, 'colsample_bytree': 0.02864092032409917, 'random_state': 42}. Best is trial 10 with value: 0.8734177215189873.\u001b[0m\n",
      "\u001b[32m[I 2021-03-25 03:57:00,173]\u001b[0m Trial 11 finished with value: 0.844579226686884 and parameters: {'reg_alpha': 0.07104257703970243, 'reg_lambda': 1.1111584472876453e-05, 'num_leaves': 295, 'learning_rate': 0.008974821558947682, 'max_depth': 10, 'n_estimators': 154, 'min_child_samples': 28, 'min_child_weight': 0.017590540475609567, 'subsample': 0.5577556970323729, 'colsample_bytree': 0.027609113958696387, 'random_state': 42}. Best is trial 10 with value: 0.8734177215189873.\u001b[0m\n",
      "\u001b[32m[I 2021-03-25 03:57:03,995]\u001b[0m Trial 12 finished with value: 0.868663594470046 and parameters: {'reg_alpha': 0.06938777724626938, 'reg_lambda': 0.00017013377330854396, 'num_leaves': 14, 'learning_rate': 0.02754843811796984, 'max_depth': 9, 'n_estimators': 2807, 'min_child_samples': 24, 'min_child_weight': 0.017151892671167398, 'subsample': 0.7693185527241317, 'colsample_bytree': 0.08795650248296082, 'random_state': 42}. Best is trial 10 with value: 0.8734177215189873.\u001b[0m\n",
      "\u001b[32m[I 2021-03-25 03:57:04,219]\u001b[0m Trial 13 finished with value: 0.8632075471698113 and parameters: {'reg_alpha': 0.08990161873843122, 'reg_lambda': 0.0003233366448500068, 'num_leaves': 12, 'learning_rate': 0.0293740486178391, 'max_depth': 13, 'n_estimators': 27, 'min_child_samples': 22, 'min_child_weight': 0.008976027376277052, 'subsample': 0.4422532165538746, 'colsample_bytree': 0.00555816318185812, 'random_state': 42}. Best is trial 10 with value: 0.8734177215189873.\u001b[0m\n",
      "\u001b[32m[I 2021-03-25 03:57:07,093]\u001b[0m Trial 14 finished with value: 0.8723404255319149 and parameters: {'reg_alpha': 5.7995378925384715, 'reg_lambda': 0.00016636212674228133, 'num_leaves': 78, 'learning_rate': 0.0013896630737867954, 'max_depth': 9, 'n_estimators': 2760, 'min_child_samples': 16, 'min_child_weight': 0.00013087744020037225, 'subsample': 0.1996541440721702, 'colsample_bytree': 0.044341567669678485, 'random_state': 42}. Best is trial 10 with value: 0.8734177215189873.\u001b[0m\n",
      "\u001b[32m[I 2021-03-25 03:57:14,999]\u001b[0m Trial 15 finished with value: 0.8608087091757387 and parameters: {'reg_alpha': 0.00032564179779407266, 'reg_lambda': 0.0014726100043092683, 'num_leaves': 95, 'learning_rate': 0.0007624099740249288, 'max_depth': 11, 'n_estimators': 3342, 'min_child_samples': 35, 'min_child_weight': 0.00010418919449009742, 'subsample': 0.01024705339486559, 'colsample_bytree': 0.018933962554012567, 'random_state': 2021}. Best is trial 10 with value: 0.8734177215189873.\u001b[0m\n",
      "\u001b[32m[I 2021-03-25 03:57:18,463]\u001b[0m Trial 16 finished with value: 0.8739495798319328 and parameters: {'reg_alpha': 6.618046474803032, 'reg_lambda': 8.096367232367153e-05, 'num_leaves': 94, 'learning_rate': 0.02338601975738591, 'max_depth': 15, 'n_estimators': 3554, 'min_child_samples': 17, 'min_child_weight': 0.00012574899392224593, 'subsample': 0.6735102388702205, 'colsample_bytree': 0.0019774566180396375, 'random_state': 42}. Best is trial 16 with value: 0.8739495798319328.\u001b[0m\n",
      "\u001b[32m[I 2021-03-25 03:57:22,662]\u001b[0m Trial 17 finished with value: 0.8705255140898706 and parameters: {'reg_alpha': 7.534434165970018, 'reg_lambda': 0.010585065526516417, 'num_leaves': 19, 'learning_rate': 0.02454130197051333, 'max_depth': 15, 'n_estimators': 6811, 'min_child_samples': 38, 'min_child_weight': 1.0251534486486261e-05, 'subsample': 0.694196053794159, 'colsample_bytree': 0.0010011613086313826, 'random_state': 42}. Best is trial 16 with value: 0.8739495798319328.\u001b[0m\n",
      "\u001b[32m[I 2021-03-25 03:57:31,007]\u001b[0m Trial 18 finished with value: 0.8634600465477114 and parameters: {'reg_alpha': 0.22887571071403912, 'reg_lambda': 4.5274037524454796e-05, 'num_leaves': 121, 'learning_rate': 0.02055503205738445, 'max_depth': 20, 'n_estimators': 3711, 'min_child_samples': 1, 'min_child_weight': 0.00017449675496827784, 'subsample': 0.9373329071376288, 'colsample_bytree': 0.0025686286014321, 'random_state': 42}. Best is trial 16 with value: 0.8739495798319328.\u001b[0m\n",
      "\u001b[32m[I 2021-03-25 03:57:39,060]\u001b[0m Trial 19 finished with value: 0.8623076923076923 and parameters: {'reg_alpha': 0.010392663668722978, 'reg_lambda': 0.0016486642726848593, 'num_leaves': 76, 'learning_rate': 0.036250099818616974, 'max_depth': 14, 'n_estimators': 6900, 'min_child_samples': 80, 'min_child_weight': 3.2529446825600066e-05, 'subsample': 0.8150790820317343, 'colsample_bytree': 0.0019732856536121886, 'random_state': 2021}. Best is trial 16 with value: 0.8739495798319328.\u001b[0m\n"
     ]
    },
    {
     "name": "stdout",
     "output_type": "stream",
     "text": [
      "numbers of the finished trials: 20\n",
      "the best params: {'reg_alpha': 6.618046474803032, 'reg_lambda': 8.096367232367153e-05, 'num_leaves': 94, 'learning_rate': 0.02338601975738591, 'max_depth': 15, 'n_estimators': 3554, 'min_child_samples': 17, 'min_child_weight': 0.00012574899392224593, 'subsample': 0.6735102388702205, 'colsample_bytree': 0.0019774566180396375, 'random_state': 42}\n",
      "the best value: 0.8739495798319328\n"
     ]
    }
   ],
   "source": [
    "study = optuna.create_study(direction = 'maximize' , study_name = 'Gbt')\n",
    "study.optimize(objective , n_trials = 20)\n",
    "print('numbers of the finished trials:' , len(study.trials))\n",
    "print('the best params:' , study.best_trial.params)\n",
    "print('the best value:' , study.best_value)"
   ]
  },
  {
   "cell_type": "code",
   "execution_count": 18,
   "metadata": {
    "execution": {
     "iopub.execute_input": "2021-03-25T03:57:39.166803Z",
     "iopub.status.busy": "2021-03-25T03:57:39.166228Z",
     "iopub.status.idle": "2021-03-25T03:57:39.170165Z",
     "shell.execute_reply": "2021-03-25T03:57:39.169747Z"
    },
    "papermill": {
     "duration": 0.037537,
     "end_time": "2021-03-25T03:57:39.170271",
     "exception": false,
     "start_time": "2021-03-25T03:57:39.132734",
     "status": "completed"
    },
    "tags": []
   },
   "outputs": [],
   "source": [
    "import plotly\n",
    "import seaborn as sns\n",
    "import matplotlib.pyplot as plt\n",
    "%matplotlib inline"
   ]
  },
  {
   "cell_type": "code",
   "execution_count": 19,
   "metadata": {
    "execution": {
     "iopub.execute_input": "2021-03-25T03:57:39.231494Z",
     "iopub.status.busy": "2021-03-25T03:57:39.231031Z",
     "iopub.status.idle": "2021-03-25T03:57:39.369844Z",
     "shell.execute_reply": "2021-03-25T03:57:39.370265Z"
    },
    "papermill": {
     "duration": 0.171514,
     "end_time": "2021-03-25T03:57:39.370401",
     "exception": false,
     "start_time": "2021-03-25T03:57:39.198887",
     "status": "completed"
    },
    "tags": []
   },
   "outputs": [
    {
     "data": {
      "text/html": [
       "        <script type=\"text/javascript\">\n",
       "        window.PlotlyConfig = {MathJaxConfig: 'local'};\n",
       "        if (window.MathJax) {MathJax.Hub.Config({SVG: {font: \"STIX-Web\"}});}\n",
       "        if (typeof require !== 'undefined') {\n",
       "        require.undef(\"plotly\");\n",
       "        requirejs.config({\n",
       "            paths: {\n",
       "                'plotly': ['https://cdn.plot.ly/plotly-latest.min']\n",
       "            }\n",
       "        });\n",
       "        require(['plotly'], function(Plotly) {\n",
       "            window._Plotly = Plotly;\n",
       "        });\n",
       "        }\n",
       "        </script>\n",
       "        "
      ]
     },
     "metadata": {},
     "output_type": "display_data"
    },
    {
     "data": {
      "text/html": [
       "<div>                            <div id=\"e08830e0-ee08-402e-ab66-baec081e03ea\" class=\"plotly-graph-div\" style=\"height:525px; width:100%;\"></div>            <script type=\"text/javascript\">                require([\"plotly\"], function(Plotly) {                    window.PLOTLYENV=window.PLOTLYENV || {};                                    if (document.getElementById(\"e08830e0-ee08-402e-ab66-baec081e03ea\")) {                    Plotly.newPlot(                        \"e08830e0-ee08-402e-ab66-baec081e03ea\",                        [{\"mode\": \"markers\", \"name\": \"Objective Value\", \"type\": \"scatter\", \"x\": [0, 1, 2, 3, 4, 5, 6, 7, 8, 9, 10, 11, 12, 13, 14, 15, 16, 17, 18, 19], \"y\": [0.8477272727272728, 0.8681572860447185, 0.8598922247882987, 0.8712413261372398, 0.8487332339791356, 0.849811320754717, 0.8681148176881304, 0.8628659476117103, 0.8683602771362586, 0.8592195868400918, 0.8734177215189873, 0.844579226686884, 0.868663594470046, 0.8632075471698113, 0.8723404255319149, 0.8608087091757387, 0.8739495798319328, 0.8705255140898706, 0.8634600465477114, 0.8623076923076923]}, {\"name\": \"Best Value\", \"type\": \"scatter\", \"x\": [0, 1, 2, 3, 4, 5, 6, 7, 8, 9, 10, 11, 12, 13, 14, 15, 16, 17, 18, 19], \"y\": [0.8477272727272728, 0.8681572860447185, 0.8681572860447185, 0.8712413261372398, 0.8712413261372398, 0.8712413261372398, 0.8712413261372398, 0.8712413261372398, 0.8712413261372398, 0.8712413261372398, 0.8734177215189873, 0.8734177215189873, 0.8734177215189873, 0.8734177215189873, 0.8734177215189873, 0.8734177215189873, 0.8739495798319328, 0.8739495798319328, 0.8739495798319328, 0.8739495798319328]}],                        {\"template\": {\"data\": {\"bar\": [{\"error_x\": {\"color\": \"#2a3f5f\"}, \"error_y\": {\"color\": \"#2a3f5f\"}, \"marker\": {\"line\": {\"color\": \"#E5ECF6\", \"width\": 0.5}}, \"type\": \"bar\"}], \"barpolar\": [{\"marker\": {\"line\": {\"color\": \"#E5ECF6\", \"width\": 0.5}}, \"type\": \"barpolar\"}], \"carpet\": [{\"aaxis\": {\"endlinecolor\": \"#2a3f5f\", \"gridcolor\": \"white\", \"linecolor\": \"white\", \"minorgridcolor\": \"white\", \"startlinecolor\": \"#2a3f5f\"}, \"baxis\": {\"endlinecolor\": \"#2a3f5f\", \"gridcolor\": \"white\", \"linecolor\": \"white\", \"minorgridcolor\": \"white\", \"startlinecolor\": \"#2a3f5f\"}, \"type\": \"carpet\"}], \"choropleth\": [{\"colorbar\": {\"outlinewidth\": 0, \"ticks\": \"\"}, \"type\": \"choropleth\"}], \"contour\": [{\"colorbar\": {\"outlinewidth\": 0, \"ticks\": \"\"}, \"colorscale\": [[0.0, \"#0d0887\"], [0.1111111111111111, \"#46039f\"], [0.2222222222222222, \"#7201a8\"], [0.3333333333333333, \"#9c179e\"], [0.4444444444444444, \"#bd3786\"], [0.5555555555555556, \"#d8576b\"], [0.6666666666666666, \"#ed7953\"], [0.7777777777777778, \"#fb9f3a\"], [0.8888888888888888, \"#fdca26\"], [1.0, \"#f0f921\"]], \"type\": \"contour\"}], \"contourcarpet\": [{\"colorbar\": {\"outlinewidth\": 0, \"ticks\": \"\"}, \"type\": \"contourcarpet\"}], \"heatmap\": [{\"colorbar\": {\"outlinewidth\": 0, \"ticks\": \"\"}, \"colorscale\": [[0.0, \"#0d0887\"], [0.1111111111111111, \"#46039f\"], [0.2222222222222222, \"#7201a8\"], [0.3333333333333333, \"#9c179e\"], [0.4444444444444444, \"#bd3786\"], [0.5555555555555556, \"#d8576b\"], [0.6666666666666666, \"#ed7953\"], [0.7777777777777778, \"#fb9f3a\"], [0.8888888888888888, \"#fdca26\"], [1.0, \"#f0f921\"]], \"type\": \"heatmap\"}], \"heatmapgl\": [{\"colorbar\": {\"outlinewidth\": 0, \"ticks\": \"\"}, \"colorscale\": [[0.0, \"#0d0887\"], [0.1111111111111111, \"#46039f\"], [0.2222222222222222, \"#7201a8\"], [0.3333333333333333, \"#9c179e\"], [0.4444444444444444, \"#bd3786\"], [0.5555555555555556, \"#d8576b\"], [0.6666666666666666, \"#ed7953\"], [0.7777777777777778, \"#fb9f3a\"], [0.8888888888888888, \"#fdca26\"], [1.0, \"#f0f921\"]], \"type\": \"heatmapgl\"}], \"histogram\": [{\"marker\": {\"colorbar\": {\"outlinewidth\": 0, \"ticks\": \"\"}}, \"type\": \"histogram\"}], \"histogram2d\": [{\"colorbar\": {\"outlinewidth\": 0, \"ticks\": \"\"}, \"colorscale\": [[0.0, \"#0d0887\"], [0.1111111111111111, \"#46039f\"], [0.2222222222222222, \"#7201a8\"], [0.3333333333333333, \"#9c179e\"], [0.4444444444444444, \"#bd3786\"], [0.5555555555555556, \"#d8576b\"], [0.6666666666666666, \"#ed7953\"], [0.7777777777777778, \"#fb9f3a\"], [0.8888888888888888, \"#fdca26\"], [1.0, \"#f0f921\"]], \"type\": \"histogram2d\"}], \"histogram2dcontour\": [{\"colorbar\": {\"outlinewidth\": 0, \"ticks\": \"\"}, \"colorscale\": [[0.0, \"#0d0887\"], [0.1111111111111111, \"#46039f\"], [0.2222222222222222, \"#7201a8\"], [0.3333333333333333, \"#9c179e\"], [0.4444444444444444, \"#bd3786\"], [0.5555555555555556, \"#d8576b\"], [0.6666666666666666, \"#ed7953\"], [0.7777777777777778, \"#fb9f3a\"], [0.8888888888888888, \"#fdca26\"], [1.0, \"#f0f921\"]], \"type\": \"histogram2dcontour\"}], \"mesh3d\": [{\"colorbar\": {\"outlinewidth\": 0, \"ticks\": \"\"}, \"type\": \"mesh3d\"}], \"parcoords\": [{\"line\": {\"colorbar\": {\"outlinewidth\": 0, \"ticks\": \"\"}}, \"type\": \"parcoords\"}], \"pie\": [{\"automargin\": true, \"type\": \"pie\"}], \"scatter\": [{\"marker\": {\"colorbar\": {\"outlinewidth\": 0, \"ticks\": \"\"}}, \"type\": \"scatter\"}], \"scatter3d\": [{\"line\": {\"colorbar\": {\"outlinewidth\": 0, \"ticks\": \"\"}}, \"marker\": {\"colorbar\": {\"outlinewidth\": 0, \"ticks\": \"\"}}, \"type\": \"scatter3d\"}], \"scattercarpet\": [{\"marker\": {\"colorbar\": {\"outlinewidth\": 0, \"ticks\": \"\"}}, \"type\": \"scattercarpet\"}], \"scattergeo\": [{\"marker\": {\"colorbar\": {\"outlinewidth\": 0, \"ticks\": \"\"}}, \"type\": \"scattergeo\"}], \"scattergl\": [{\"marker\": {\"colorbar\": {\"outlinewidth\": 0, \"ticks\": \"\"}}, \"type\": \"scattergl\"}], \"scattermapbox\": [{\"marker\": {\"colorbar\": {\"outlinewidth\": 0, \"ticks\": \"\"}}, \"type\": \"scattermapbox\"}], \"scatterpolar\": [{\"marker\": {\"colorbar\": {\"outlinewidth\": 0, \"ticks\": \"\"}}, \"type\": \"scatterpolar\"}], \"scatterpolargl\": [{\"marker\": {\"colorbar\": {\"outlinewidth\": 0, \"ticks\": \"\"}}, \"type\": \"scatterpolargl\"}], \"scatterternary\": [{\"marker\": {\"colorbar\": {\"outlinewidth\": 0, \"ticks\": \"\"}}, \"type\": \"scatterternary\"}], \"surface\": [{\"colorbar\": {\"outlinewidth\": 0, \"ticks\": \"\"}, \"colorscale\": [[0.0, \"#0d0887\"], [0.1111111111111111, \"#46039f\"], [0.2222222222222222, \"#7201a8\"], [0.3333333333333333, \"#9c179e\"], [0.4444444444444444, \"#bd3786\"], [0.5555555555555556, \"#d8576b\"], [0.6666666666666666, \"#ed7953\"], [0.7777777777777778, \"#fb9f3a\"], [0.8888888888888888, \"#fdca26\"], [1.0, \"#f0f921\"]], \"type\": \"surface\"}], \"table\": [{\"cells\": {\"fill\": {\"color\": \"#EBF0F8\"}, \"line\": {\"color\": \"white\"}}, \"header\": {\"fill\": {\"color\": \"#C8D4E3\"}, \"line\": {\"color\": \"white\"}}, \"type\": \"table\"}]}, \"layout\": {\"annotationdefaults\": {\"arrowcolor\": \"#2a3f5f\", \"arrowhead\": 0, \"arrowwidth\": 1}, \"autotypenumbers\": \"strict\", \"coloraxis\": {\"colorbar\": {\"outlinewidth\": 0, \"ticks\": \"\"}}, \"colorscale\": {\"diverging\": [[0, \"#8e0152\"], [0.1, \"#c51b7d\"], [0.2, \"#de77ae\"], [0.3, \"#f1b6da\"], [0.4, \"#fde0ef\"], [0.5, \"#f7f7f7\"], [0.6, \"#e6f5d0\"], [0.7, \"#b8e186\"], [0.8, \"#7fbc41\"], [0.9, \"#4d9221\"], [1, \"#276419\"]], \"sequential\": [[0.0, \"#0d0887\"], [0.1111111111111111, \"#46039f\"], [0.2222222222222222, \"#7201a8\"], [0.3333333333333333, \"#9c179e\"], [0.4444444444444444, \"#bd3786\"], [0.5555555555555556, \"#d8576b\"], [0.6666666666666666, \"#ed7953\"], [0.7777777777777778, \"#fb9f3a\"], [0.8888888888888888, \"#fdca26\"], [1.0, \"#f0f921\"]], \"sequentialminus\": [[0.0, \"#0d0887\"], [0.1111111111111111, \"#46039f\"], [0.2222222222222222, \"#7201a8\"], [0.3333333333333333, \"#9c179e\"], [0.4444444444444444, \"#bd3786\"], [0.5555555555555556, \"#d8576b\"], [0.6666666666666666, \"#ed7953\"], [0.7777777777777778, \"#fb9f3a\"], [0.8888888888888888, \"#fdca26\"], [1.0, \"#f0f921\"]]}, \"colorway\": [\"#636efa\", \"#EF553B\", \"#00cc96\", \"#ab63fa\", \"#FFA15A\", \"#19d3f3\", \"#FF6692\", \"#B6E880\", \"#FF97FF\", \"#FECB52\"], \"font\": {\"color\": \"#2a3f5f\"}, \"geo\": {\"bgcolor\": \"white\", \"lakecolor\": \"white\", \"landcolor\": \"#E5ECF6\", \"showlakes\": true, \"showland\": true, \"subunitcolor\": \"white\"}, \"hoverlabel\": {\"align\": \"left\"}, \"hovermode\": \"closest\", \"mapbox\": {\"style\": \"light\"}, \"paper_bgcolor\": \"white\", \"plot_bgcolor\": \"#E5ECF6\", \"polar\": {\"angularaxis\": {\"gridcolor\": \"white\", \"linecolor\": \"white\", \"ticks\": \"\"}, \"bgcolor\": \"#E5ECF6\", \"radialaxis\": {\"gridcolor\": \"white\", \"linecolor\": \"white\", \"ticks\": \"\"}}, \"scene\": {\"xaxis\": {\"backgroundcolor\": \"#E5ECF6\", \"gridcolor\": \"white\", \"gridwidth\": 2, \"linecolor\": \"white\", \"showbackground\": true, \"ticks\": \"\", \"zerolinecolor\": \"white\"}, \"yaxis\": {\"backgroundcolor\": \"#E5ECF6\", \"gridcolor\": \"white\", \"gridwidth\": 2, \"linecolor\": \"white\", \"showbackground\": true, \"ticks\": \"\", \"zerolinecolor\": \"white\"}, \"zaxis\": {\"backgroundcolor\": \"#E5ECF6\", \"gridcolor\": \"white\", \"gridwidth\": 2, \"linecolor\": \"white\", \"showbackground\": true, \"ticks\": \"\", \"zerolinecolor\": \"white\"}}, \"shapedefaults\": {\"line\": {\"color\": \"#2a3f5f\"}}, \"ternary\": {\"aaxis\": {\"gridcolor\": \"white\", \"linecolor\": \"white\", \"ticks\": \"\"}, \"baxis\": {\"gridcolor\": \"white\", \"linecolor\": \"white\", \"ticks\": \"\"}, \"bgcolor\": \"#E5ECF6\", \"caxis\": {\"gridcolor\": \"white\", \"linecolor\": \"white\", \"ticks\": \"\"}}, \"title\": {\"x\": 0.05}, \"xaxis\": {\"automargin\": true, \"gridcolor\": \"white\", \"linecolor\": \"white\", \"ticks\": \"\", \"title\": {\"standoff\": 15}, \"zerolinecolor\": \"white\", \"zerolinewidth\": 2}, \"yaxis\": {\"automargin\": true, \"gridcolor\": \"white\", \"linecolor\": \"white\", \"ticks\": \"\", \"title\": {\"standoff\": 15}, \"zerolinecolor\": \"white\", \"zerolinewidth\": 2}}}, \"title\": {\"text\": \"Optimization History Plot\"}, \"xaxis\": {\"title\": {\"text\": \"#Trials\"}}, \"yaxis\": {\"title\": {\"text\": \"Objective Value\"}}},                        {\"responsive\": true}                    ).then(function(){\n",
       "                            \n",
       "var gd = document.getElementById('e08830e0-ee08-402e-ab66-baec081e03ea');\n",
       "var x = new MutationObserver(function (mutations, observer) {{\n",
       "        var display = window.getComputedStyle(gd).display;\n",
       "        if (!display || display === 'none') {{\n",
       "            console.log([gd, 'removed!']);\n",
       "            Plotly.purge(gd);\n",
       "            observer.disconnect();\n",
       "        }}\n",
       "}});\n",
       "\n",
       "// Listen for the removal of the full notebook cells\n",
       "var notebookContainer = gd.closest('#notebook-container');\n",
       "if (notebookContainer) {{\n",
       "    x.observe(notebookContainer, {childList: true});\n",
       "}}\n",
       "\n",
       "// Listen for the clearing of the current output cell\n",
       "var outputEl = gd.closest('.output');\n",
       "if (outputEl) {{\n",
       "    x.observe(outputEl, {childList: true});\n",
       "}}\n",
       "\n",
       "                        })                };                });            </script>        </div>"
      ]
     },
     "metadata": {},
     "output_type": "display_data"
    }
   ],
   "source": [
    "optuna.visualization.plot_optimization_history(study)"
   ]
  },
  {
   "cell_type": "code",
   "execution_count": 20,
   "metadata": {
    "execution": {
     "iopub.execute_input": "2021-03-25T03:57:39.434000Z",
     "iopub.status.busy": "2021-03-25T03:57:39.433311Z",
     "iopub.status.idle": "2021-03-25T03:57:40.108778Z",
     "shell.execute_reply": "2021-03-25T03:57:40.109188Z"
    },
    "papermill": {
     "duration": 0.709165,
     "end_time": "2021-03-25T03:57:40.109332",
     "exception": false,
     "start_time": "2021-03-25T03:57:39.400167",
     "status": "completed"
    },
    "tags": []
   },
   "outputs": [
    {
     "data": {
      "text/html": [
       "<div>                            <div id=\"489fa847-8cf6-4808-a8d1-24a481c7d8dc\" class=\"plotly-graph-div\" style=\"height:525px; width:100%;\"></div>            <script type=\"text/javascript\">                require([\"plotly\"], function(Plotly) {                    window.PLOTLYENV=window.PLOTLYENV || {};                                    if (document.getElementById(\"489fa847-8cf6-4808-a8d1-24a481c7d8dc\")) {                    Plotly.newPlot(                        \"489fa847-8cf6-4808-a8d1-24a481c7d8dc\",                        [{\"cliponaxis\": false, \"hovertemplate\": [\"min_child_weight (LogUniformDistribution): 0.005219279320508915<extra></extra>\", \"n_estimators (IntUniformDistribution): 0.011955944895687482<extra></extra>\", \"subsample (UniformDistribution): 0.012601251980971943<extra></extra>\", \"min_child_samples (IntUniformDistribution): 0.014039864909668031<extra></extra>\", \"learning_rate (UniformDistribution): 0.024349726218100897<extra></extra>\", \"reg_alpha (LogUniformDistribution): 0.04456230626235995<extra></extra>\", \"random_state (CategoricalDistribution): 0.061935992157934786<extra></extra>\", \"reg_lambda (LogUniformDistribution): 0.07319939021932988<extra></extra>\", \"max_depth (IntUniformDistribution): 0.0772267728508418<extra></extra>\", \"colsample_bytree (LogUniformDistribution): 0.19532959003897643<extra></extra>\", \"num_leaves (IntUniformDistribution): 0.47957988114561967<extra></extra>\"], \"marker\": {\"color\": [\"rgb(8,48,107)\", \"rgb(8,81,156)\", \"rgb(8,48,107)\", \"rgb(8,81,156)\", \"rgb(8,48,107)\", \"rgb(8,48,107)\", \"rgb(66,146,198)\", \"rgb(8,48,107)\", \"rgb(8,81,156)\", \"rgb(8,48,107)\", \"rgb(8,81,156)\"]}, \"orientation\": \"h\", \"text\": [\"0.005219279320508915\", \"0.011955944895687482\", \"0.012601251980971943\", \"0.014039864909668031\", \"0.024349726218100897\", \"0.04456230626235995\", \"0.061935992157934786\", \"0.07319939021932988\", \"0.0772267728508418\", \"0.19532959003897643\", \"0.47957988114561967\"], \"textposition\": \"outside\", \"texttemplate\": \"%{text:.2f}\", \"type\": \"bar\", \"x\": [0.005219279320508915, 0.011955944895687482, 0.012601251980971943, 0.014039864909668031, 0.024349726218100897, 0.04456230626235995, 0.061935992157934786, 0.07319939021932988, 0.0772267728508418, 0.19532959003897643, 0.47957988114561967], \"y\": [\"min_child_weight\", \"n_estimators\", \"subsample\", \"min_child_samples\", \"learning_rate\", \"reg_alpha\", \"random_state\", \"reg_lambda\", \"max_depth\", \"colsample_bytree\", \"num_leaves\"]}],                        {\"showlegend\": false, \"template\": {\"data\": {\"bar\": [{\"error_x\": {\"color\": \"#2a3f5f\"}, \"error_y\": {\"color\": \"#2a3f5f\"}, \"marker\": {\"line\": {\"color\": \"#E5ECF6\", \"width\": 0.5}}, \"type\": \"bar\"}], \"barpolar\": [{\"marker\": {\"line\": {\"color\": \"#E5ECF6\", \"width\": 0.5}}, \"type\": \"barpolar\"}], \"carpet\": [{\"aaxis\": {\"endlinecolor\": \"#2a3f5f\", \"gridcolor\": \"white\", \"linecolor\": \"white\", \"minorgridcolor\": \"white\", \"startlinecolor\": \"#2a3f5f\"}, \"baxis\": {\"endlinecolor\": \"#2a3f5f\", \"gridcolor\": \"white\", \"linecolor\": \"white\", \"minorgridcolor\": \"white\", \"startlinecolor\": \"#2a3f5f\"}, \"type\": \"carpet\"}], \"choropleth\": [{\"colorbar\": {\"outlinewidth\": 0, \"ticks\": \"\"}, \"type\": \"choropleth\"}], \"contour\": [{\"colorbar\": {\"outlinewidth\": 0, \"ticks\": \"\"}, \"colorscale\": [[0.0, \"#0d0887\"], [0.1111111111111111, \"#46039f\"], [0.2222222222222222, \"#7201a8\"], [0.3333333333333333, \"#9c179e\"], [0.4444444444444444, \"#bd3786\"], [0.5555555555555556, \"#d8576b\"], [0.6666666666666666, \"#ed7953\"], [0.7777777777777778, \"#fb9f3a\"], [0.8888888888888888, \"#fdca26\"], [1.0, \"#f0f921\"]], \"type\": \"contour\"}], \"contourcarpet\": [{\"colorbar\": {\"outlinewidth\": 0, \"ticks\": \"\"}, \"type\": \"contourcarpet\"}], \"heatmap\": [{\"colorbar\": {\"outlinewidth\": 0, \"ticks\": \"\"}, \"colorscale\": [[0.0, \"#0d0887\"], [0.1111111111111111, \"#46039f\"], [0.2222222222222222, \"#7201a8\"], [0.3333333333333333, \"#9c179e\"], [0.4444444444444444, \"#bd3786\"], [0.5555555555555556, \"#d8576b\"], [0.6666666666666666, \"#ed7953\"], [0.7777777777777778, \"#fb9f3a\"], [0.8888888888888888, \"#fdca26\"], [1.0, \"#f0f921\"]], \"type\": \"heatmap\"}], \"heatmapgl\": [{\"colorbar\": {\"outlinewidth\": 0, \"ticks\": \"\"}, \"colorscale\": [[0.0, \"#0d0887\"], [0.1111111111111111, \"#46039f\"], [0.2222222222222222, \"#7201a8\"], [0.3333333333333333, \"#9c179e\"], [0.4444444444444444, \"#bd3786\"], [0.5555555555555556, \"#d8576b\"], [0.6666666666666666, \"#ed7953\"], [0.7777777777777778, \"#fb9f3a\"], [0.8888888888888888, \"#fdca26\"], [1.0, \"#f0f921\"]], \"type\": \"heatmapgl\"}], \"histogram\": [{\"marker\": {\"colorbar\": {\"outlinewidth\": 0, \"ticks\": \"\"}}, \"type\": \"histogram\"}], \"histogram2d\": [{\"colorbar\": {\"outlinewidth\": 0, \"ticks\": \"\"}, \"colorscale\": [[0.0, \"#0d0887\"], [0.1111111111111111, \"#46039f\"], [0.2222222222222222, \"#7201a8\"], [0.3333333333333333, \"#9c179e\"], [0.4444444444444444, \"#bd3786\"], [0.5555555555555556, \"#d8576b\"], [0.6666666666666666, \"#ed7953\"], [0.7777777777777778, \"#fb9f3a\"], [0.8888888888888888, \"#fdca26\"], [1.0, \"#f0f921\"]], \"type\": \"histogram2d\"}], \"histogram2dcontour\": [{\"colorbar\": {\"outlinewidth\": 0, \"ticks\": \"\"}, \"colorscale\": [[0.0, \"#0d0887\"], [0.1111111111111111, \"#46039f\"], [0.2222222222222222, \"#7201a8\"], [0.3333333333333333, \"#9c179e\"], [0.4444444444444444, \"#bd3786\"], [0.5555555555555556, \"#d8576b\"], [0.6666666666666666, \"#ed7953\"], [0.7777777777777778, \"#fb9f3a\"], [0.8888888888888888, \"#fdca26\"], [1.0, \"#f0f921\"]], \"type\": \"histogram2dcontour\"}], \"mesh3d\": [{\"colorbar\": {\"outlinewidth\": 0, \"ticks\": \"\"}, \"type\": \"mesh3d\"}], \"parcoords\": [{\"line\": {\"colorbar\": {\"outlinewidth\": 0, \"ticks\": \"\"}}, \"type\": \"parcoords\"}], \"pie\": [{\"automargin\": true, \"type\": \"pie\"}], \"scatter\": [{\"marker\": {\"colorbar\": {\"outlinewidth\": 0, \"ticks\": \"\"}}, \"type\": \"scatter\"}], \"scatter3d\": [{\"line\": {\"colorbar\": {\"outlinewidth\": 0, \"ticks\": \"\"}}, \"marker\": {\"colorbar\": {\"outlinewidth\": 0, \"ticks\": \"\"}}, \"type\": \"scatter3d\"}], \"scattercarpet\": [{\"marker\": {\"colorbar\": {\"outlinewidth\": 0, \"ticks\": \"\"}}, \"type\": \"scattercarpet\"}], \"scattergeo\": [{\"marker\": {\"colorbar\": {\"outlinewidth\": 0, \"ticks\": \"\"}}, \"type\": \"scattergeo\"}], \"scattergl\": [{\"marker\": {\"colorbar\": {\"outlinewidth\": 0, \"ticks\": \"\"}}, \"type\": \"scattergl\"}], \"scattermapbox\": [{\"marker\": {\"colorbar\": {\"outlinewidth\": 0, \"ticks\": \"\"}}, \"type\": \"scattermapbox\"}], \"scatterpolar\": [{\"marker\": {\"colorbar\": {\"outlinewidth\": 0, \"ticks\": \"\"}}, \"type\": \"scatterpolar\"}], \"scatterpolargl\": [{\"marker\": {\"colorbar\": {\"outlinewidth\": 0, \"ticks\": \"\"}}, \"type\": \"scatterpolargl\"}], \"scatterternary\": [{\"marker\": {\"colorbar\": {\"outlinewidth\": 0, \"ticks\": \"\"}}, \"type\": \"scatterternary\"}], \"surface\": [{\"colorbar\": {\"outlinewidth\": 0, \"ticks\": \"\"}, \"colorscale\": [[0.0, \"#0d0887\"], [0.1111111111111111, \"#46039f\"], [0.2222222222222222, \"#7201a8\"], [0.3333333333333333, \"#9c179e\"], [0.4444444444444444, \"#bd3786\"], [0.5555555555555556, \"#d8576b\"], [0.6666666666666666, \"#ed7953\"], [0.7777777777777778, \"#fb9f3a\"], [0.8888888888888888, \"#fdca26\"], [1.0, \"#f0f921\"]], \"type\": \"surface\"}], \"table\": [{\"cells\": {\"fill\": {\"color\": \"#EBF0F8\"}, \"line\": {\"color\": \"white\"}}, \"header\": {\"fill\": {\"color\": \"#C8D4E3\"}, \"line\": {\"color\": \"white\"}}, \"type\": \"table\"}]}, \"layout\": {\"annotationdefaults\": {\"arrowcolor\": \"#2a3f5f\", \"arrowhead\": 0, \"arrowwidth\": 1}, \"autotypenumbers\": \"strict\", \"coloraxis\": {\"colorbar\": {\"outlinewidth\": 0, \"ticks\": \"\"}}, \"colorscale\": {\"diverging\": [[0, \"#8e0152\"], [0.1, \"#c51b7d\"], [0.2, \"#de77ae\"], [0.3, \"#f1b6da\"], [0.4, \"#fde0ef\"], [0.5, \"#f7f7f7\"], [0.6, \"#e6f5d0\"], [0.7, \"#b8e186\"], [0.8, \"#7fbc41\"], [0.9, \"#4d9221\"], [1, \"#276419\"]], \"sequential\": [[0.0, \"#0d0887\"], [0.1111111111111111, \"#46039f\"], [0.2222222222222222, \"#7201a8\"], [0.3333333333333333, \"#9c179e\"], [0.4444444444444444, \"#bd3786\"], [0.5555555555555556, \"#d8576b\"], [0.6666666666666666, \"#ed7953\"], [0.7777777777777778, \"#fb9f3a\"], [0.8888888888888888, \"#fdca26\"], [1.0, \"#f0f921\"]], \"sequentialminus\": [[0.0, \"#0d0887\"], [0.1111111111111111, \"#46039f\"], [0.2222222222222222, \"#7201a8\"], [0.3333333333333333, \"#9c179e\"], [0.4444444444444444, \"#bd3786\"], [0.5555555555555556, \"#d8576b\"], [0.6666666666666666, \"#ed7953\"], [0.7777777777777778, \"#fb9f3a\"], [0.8888888888888888, \"#fdca26\"], [1.0, \"#f0f921\"]]}, \"colorway\": [\"#636efa\", \"#EF553B\", \"#00cc96\", \"#ab63fa\", \"#FFA15A\", \"#19d3f3\", \"#FF6692\", \"#B6E880\", \"#FF97FF\", \"#FECB52\"], \"font\": {\"color\": \"#2a3f5f\"}, \"geo\": {\"bgcolor\": \"white\", \"lakecolor\": \"white\", \"landcolor\": \"#E5ECF6\", \"showlakes\": true, \"showland\": true, \"subunitcolor\": \"white\"}, \"hoverlabel\": {\"align\": \"left\"}, \"hovermode\": \"closest\", \"mapbox\": {\"style\": \"light\"}, \"paper_bgcolor\": \"white\", \"plot_bgcolor\": \"#E5ECF6\", \"polar\": {\"angularaxis\": {\"gridcolor\": \"white\", \"linecolor\": \"white\", \"ticks\": \"\"}, \"bgcolor\": \"#E5ECF6\", \"radialaxis\": {\"gridcolor\": \"white\", \"linecolor\": \"white\", \"ticks\": \"\"}}, \"scene\": {\"xaxis\": {\"backgroundcolor\": \"#E5ECF6\", \"gridcolor\": \"white\", \"gridwidth\": 2, \"linecolor\": \"white\", \"showbackground\": true, \"ticks\": \"\", \"zerolinecolor\": \"white\"}, \"yaxis\": {\"backgroundcolor\": \"#E5ECF6\", \"gridcolor\": \"white\", \"gridwidth\": 2, \"linecolor\": \"white\", \"showbackground\": true, \"ticks\": \"\", \"zerolinecolor\": \"white\"}, \"zaxis\": {\"backgroundcolor\": \"#E5ECF6\", \"gridcolor\": \"white\", \"gridwidth\": 2, \"linecolor\": \"white\", \"showbackground\": true, \"ticks\": \"\", \"zerolinecolor\": \"white\"}}, \"shapedefaults\": {\"line\": {\"color\": \"#2a3f5f\"}}, \"ternary\": {\"aaxis\": {\"gridcolor\": \"white\", \"linecolor\": \"white\", \"ticks\": \"\"}, \"baxis\": {\"gridcolor\": \"white\", \"linecolor\": \"white\", \"ticks\": \"\"}, \"bgcolor\": \"#E5ECF6\", \"caxis\": {\"gridcolor\": \"white\", \"linecolor\": \"white\", \"ticks\": \"\"}}, \"title\": {\"x\": 0.05}, \"xaxis\": {\"automargin\": true, \"gridcolor\": \"white\", \"linecolor\": \"white\", \"ticks\": \"\", \"title\": {\"standoff\": 15}, \"zerolinecolor\": \"white\", \"zerolinewidth\": 2}, \"yaxis\": {\"automargin\": true, \"gridcolor\": \"white\", \"linecolor\": \"white\", \"ticks\": \"\", \"title\": {\"standoff\": 15}, \"zerolinecolor\": \"white\", \"zerolinewidth\": 2}}}, \"title\": {\"text\": \"Hyperparameter Importances\"}, \"xaxis\": {\"title\": {\"text\": \"Importance for Objective Value\"}}, \"yaxis\": {\"title\": {\"text\": \"Hyperparameter\"}}},                        {\"responsive\": true}                    ).then(function(){\n",
       "                            \n",
       "var gd = document.getElementById('489fa847-8cf6-4808-a8d1-24a481c7d8dc');\n",
       "var x = new MutationObserver(function (mutations, observer) {{\n",
       "        var display = window.getComputedStyle(gd).display;\n",
       "        if (!display || display === 'none') {{\n",
       "            console.log([gd, 'removed!']);\n",
       "            Plotly.purge(gd);\n",
       "            observer.disconnect();\n",
       "        }}\n",
       "}});\n",
       "\n",
       "// Listen for the removal of the full notebook cells\n",
       "var notebookContainer = gd.closest('#notebook-container');\n",
       "if (notebookContainer) {{\n",
       "    x.observe(notebookContainer, {childList: true});\n",
       "}}\n",
       "\n",
       "// Listen for the clearing of the current output cell\n",
       "var outputEl = gd.closest('.output');\n",
       "if (outputEl) {{\n",
       "    x.observe(outputEl, {childList: true});\n",
       "}}\n",
       "\n",
       "                        })                };                });            </script>        </div>"
      ]
     },
     "metadata": {},
     "output_type": "display_data"
    }
   ],
   "source": [
    "optuna.visualization.plot_param_importances(study)"
   ]
  },
  {
   "cell_type": "code",
   "execution_count": 21,
   "metadata": {
    "execution": {
     "iopub.execute_input": "2021-03-25T03:57:40.179853Z",
     "iopub.status.busy": "2021-03-25T03:57:40.179327Z",
     "iopub.status.idle": "2021-03-25T03:57:40.236559Z",
     "shell.execute_reply": "2021-03-25T03:57:40.236142Z"
    },
    "papermill": {
     "duration": 0.096589,
     "end_time": "2021-03-25T03:57:40.236684",
     "exception": false,
     "start_time": "2021-03-25T03:57:40.140095",
     "status": "completed"
    },
    "tags": []
   },
   "outputs": [
    {
     "data": {
      "text/html": [
       "<div>                            <div id=\"e8b306bb-99bf-4b3d-94b9-d690ca322166\" class=\"plotly-graph-div\" style=\"height:525px; width:100%;\"></div>            <script type=\"text/javascript\">                require([\"plotly\"], function(Plotly) {                    window.PLOTLYENV=window.PLOTLYENV || {};                                    if (document.getElementById(\"e8b306bb-99bf-4b3d-94b9-d690ca322166\")) {                    Plotly.newPlot(                        \"e8b306bb-99bf-4b3d-94b9-d690ca322166\",                        [{\"dimensions\": [{\"label\": \"Objective Value\", \"range\": [0.844579226686884, 0.8739495798319328], \"values\": [0.8477272727272728, 0.8681572860447185, 0.8598922247882987, 0.8712413261372398, 0.8487332339791356, 0.849811320754717, 0.8681148176881304, 0.8628659476117103, 0.8683602771362586, 0.8592195868400918, 0.8734177215189873, 0.844579226686884, 0.868663594470046, 0.8632075471698113, 0.8723404255319149, 0.8608087091757387, 0.8739495798319328, 0.8705255140898706, 0.8634600465477114, 0.8623076923076923]}, {\"label\": \"colsample_bytree\", \"range\": [-4.75568855295269, -0.16239196079215779], \"ticktext\": [\"1.76e-05\", \"0.0001\", \"0.001\", \"0.01\", \"0.1\", \"0.688\"], \"tickvals\": [-4.75568855295269, -4, -3, -2, -1, -0.16239196079215779], \"values\": [-0.21537778973945615, -3.345106918989528, -3.6896878368937736, -1.061562434090028, -1.0811536081774724, -0.16239196079215779, -4.75281153297604, -4.75568855295269, -2.2226100629037893, -3.8998967180882667, -1.5430130308733971, -1.55894753066691, -1.0557320483261405, -2.2550687069396833, -1.3531889567277215, -1.7227584861286338, -2.703893035391683, -2.9994959426960364, -2.590298685927893, -2.704810041555843]}, {\"label\": \"learning_rate\", \"range\": [0.0007624099740249288, 0.09333791681504], \"values\": [0.047538631418534316, 0.08253751224081417, 0.06519531385524589, 0.05898870376014283, 0.05161849445624898, 0.061700398887057, 0.042926277203378875, 0.06213168535892737, 0.012629228449602514, 0.09333791681504, 0.01961139990039138, 0.008974821558947682, 0.02754843811796984, 0.0293740486178391, 0.0013896630737867954, 0.0007624099740249288, 0.02338601975738591, 0.02454130197051333, 0.02055503205738445, 0.036250099818616974]}, {\"label\": \"max_depth\", \"range\": [6, 20], \"values\": [11, 13, 6, 8, 17, 18, 6, 7, 6, 16, 10, 10, 9, 13, 9, 11, 15, 15, 20, 14]}, {\"label\": \"min_child_samples\", \"range\": [1, 97], \"values\": [8, 7, 51, 14, 59, 50, 3, 40, 70, 97, 26, 28, 24, 22, 16, 35, 17, 38, 1, 80]}, {\"label\": \"min_child_weight\", \"range\": [-4.989211122985295, -0.0561026907935532], \"ticktext\": [\"1.03e-05\", \"0.0001\", \"0.001\", \"0.01\", \"0.1\", \"0.879\"], \"tickvals\": [-4.989211122985295, -4, -3, -2, -1, -0.0561026907935532], \"values\": [-2.9847925306442202, -0.7504012208628839, -0.3809295174762584, -1.7620622191680246, -0.5969419704889565, -4.9704871295609045, -2.7522695271271016, -2.9818014591582203, -0.0561026907935532, -0.7471199542585221, -1.7623506468830834, -1.7547208164851886, -1.7656879495984241, -2.046915831517066, -3.8831352078485226, -3.9821773195841073, -3.900495480910324, -4.989211122985295, -3.758212644994053, -4.487723321981967]}, {\"label\": \"n_estimators\", \"range\": [27, 9821], \"values\": [5214, 5496, 9821, 467, 9621, 1404, 9155, 1566, 8488, 5043, 396, 154, 2807, 27, 2760, 3342, 3554, 6811, 3711, 6900]}, {\"label\": \"num_leaves\", \"range\": [11, 295], \"values\": [55, 141, 237, 53, 191, 213, 47, 145, 161, 103, 11, 295, 14, 12, 78, 95, 94, 19, 121, 76]}, {\"label\": \"random_state\", \"range\": [0, 3], \"ticktext\": [[2021, 0], [0, 1], [42, 2], [555, 3]], \"tickvals\": [0, 1, 2, 3], \"values\": [0, 1, 1, 2, 3, 1, 1, 2, 2, 3, 2, 2, 2, 2, 2, 0, 2, 2, 2, 0]}, {\"label\": \"reg_alpha\", \"range\": [-4.973082451991155, 0.8770506424735949], \"ticktext\": [\"1.06e-05\", \"0.0001\", \"0.001\", \"0.01\", \"0.1\", \"1\", \"7.53\"], \"tickvals\": [-4.973082451991155, -4, -3, -2, -1, 0, 0.8770506424735949], \"values\": [-4.63680297130727, 0.341251686931471, -2.5244797047532885, 0.0160810509140968, 0.03788763076862252, -2.570171195420951, 0.10997978782726398, -4.973082451991155, -4.780251743719827, -4.532321227307322, -1.1388983040275904, -1.1484812930934332, -1.1587170243866638, -1.0462324884354117, 0.7633933903360581, -3.487259856281961, 0.8207298126394333, 0.8770506424735949, -0.6404002940995047, -1.9832731272871273]}, {\"label\": \"reg_lambda\", \"range\": [-4.954224007777194, 0.9017596277553913], \"ticktext\": [\"1.11e-05\", \"0.0001\", \"0.001\", \"0.01\", \"0.1\", \"1\", \"7.98\"], \"tickvals\": [-4.954224007777194, -4, -3, -2, -1, 0, 0.9017596277553913], \"values\": [0.15288282666804945, -1.5816388118102576, 0.739738867816015, -4.91849653643085, 0.3058857591218639, 0.9017596277553913, -0.3405772696638515, -4.616327547664411, 0.671559608937371, -0.0975343507695424, -4.616032721894177, -4.954224007777194, -3.7692094658959037, -3.49034507251717, -3.77894553633227, -2.8319122534304486, -4.0917098014709765, -1.9753064491498677, -4.3441507735321, -2.7828677733214624]}, {\"label\": \"subsample\", \"range\": [0.01024705339486559, 0.9373329071376288], \"values\": [0.3668594494101882, 0.05916629226977199, 0.3465930572070962, 0.23307939973683267, 0.3320621686165123, 0.6050403703356726, 0.9211868563328409, 0.7272604527182223, 0.11022154322489519, 0.18281712523368154, 0.5332761260597386, 0.5577556970323729, 0.7693185527241317, 0.4422532165538746, 0.1996541440721702, 0.01024705339486559, 0.6735102388702205, 0.694196053794159, 0.9373329071376288, 0.8150790820317343]}], \"labelangle\": 30, \"labelside\": \"bottom\", \"line\": {\"color\": [0.8477272727272728, 0.8681572860447185, 0.8598922247882987, 0.8712413261372398, 0.8487332339791356, 0.849811320754717, 0.8681148176881304, 0.8628659476117103, 0.8683602771362586, 0.8592195868400918, 0.8734177215189873, 0.844579226686884, 0.868663594470046, 0.8632075471698113, 0.8723404255319149, 0.8608087091757387, 0.8739495798319328, 0.8705255140898706, 0.8634600465477114, 0.8623076923076923], \"colorbar\": {\"title\": {\"text\": \"Objective Value\"}}, \"colorscale\": [[0.0, \"rgb(247,251,255)\"], [0.125, \"rgb(222,235,247)\"], [0.25, \"rgb(198,219,239)\"], [0.375, \"rgb(158,202,225)\"], [0.5, \"rgb(107,174,214)\"], [0.625, \"rgb(66,146,198)\"], [0.75, \"rgb(33,113,181)\"], [0.875, \"rgb(8,81,156)\"], [1.0, \"rgb(8,48,107)\"]], \"reversescale\": false, \"showscale\": true}, \"type\": \"parcoords\"}],                        {\"template\": {\"data\": {\"bar\": [{\"error_x\": {\"color\": \"#2a3f5f\"}, \"error_y\": {\"color\": \"#2a3f5f\"}, \"marker\": {\"line\": {\"color\": \"#E5ECF6\", \"width\": 0.5}}, \"type\": \"bar\"}], \"barpolar\": [{\"marker\": {\"line\": {\"color\": \"#E5ECF6\", \"width\": 0.5}}, \"type\": \"barpolar\"}], \"carpet\": [{\"aaxis\": {\"endlinecolor\": \"#2a3f5f\", \"gridcolor\": \"white\", \"linecolor\": \"white\", \"minorgridcolor\": \"white\", \"startlinecolor\": \"#2a3f5f\"}, \"baxis\": {\"endlinecolor\": \"#2a3f5f\", \"gridcolor\": \"white\", \"linecolor\": \"white\", \"minorgridcolor\": \"white\", \"startlinecolor\": \"#2a3f5f\"}, \"type\": \"carpet\"}], \"choropleth\": [{\"colorbar\": {\"outlinewidth\": 0, \"ticks\": \"\"}, \"type\": \"choropleth\"}], \"contour\": [{\"colorbar\": {\"outlinewidth\": 0, \"ticks\": \"\"}, \"colorscale\": [[0.0, \"#0d0887\"], [0.1111111111111111, \"#46039f\"], [0.2222222222222222, \"#7201a8\"], [0.3333333333333333, \"#9c179e\"], [0.4444444444444444, \"#bd3786\"], [0.5555555555555556, \"#d8576b\"], [0.6666666666666666, \"#ed7953\"], [0.7777777777777778, \"#fb9f3a\"], [0.8888888888888888, \"#fdca26\"], [1.0, \"#f0f921\"]], \"type\": \"contour\"}], \"contourcarpet\": [{\"colorbar\": {\"outlinewidth\": 0, \"ticks\": \"\"}, \"type\": \"contourcarpet\"}], \"heatmap\": [{\"colorbar\": {\"outlinewidth\": 0, \"ticks\": \"\"}, \"colorscale\": [[0.0, \"#0d0887\"], [0.1111111111111111, \"#46039f\"], [0.2222222222222222, \"#7201a8\"], [0.3333333333333333, \"#9c179e\"], [0.4444444444444444, \"#bd3786\"], [0.5555555555555556, \"#d8576b\"], [0.6666666666666666, \"#ed7953\"], [0.7777777777777778, \"#fb9f3a\"], [0.8888888888888888, \"#fdca26\"], [1.0, \"#f0f921\"]], \"type\": \"heatmap\"}], \"heatmapgl\": [{\"colorbar\": {\"outlinewidth\": 0, \"ticks\": \"\"}, \"colorscale\": [[0.0, \"#0d0887\"], [0.1111111111111111, \"#46039f\"], [0.2222222222222222, \"#7201a8\"], [0.3333333333333333, \"#9c179e\"], [0.4444444444444444, \"#bd3786\"], [0.5555555555555556, \"#d8576b\"], [0.6666666666666666, \"#ed7953\"], [0.7777777777777778, \"#fb9f3a\"], [0.8888888888888888, \"#fdca26\"], [1.0, \"#f0f921\"]], \"type\": \"heatmapgl\"}], \"histogram\": [{\"marker\": {\"colorbar\": {\"outlinewidth\": 0, \"ticks\": \"\"}}, \"type\": \"histogram\"}], \"histogram2d\": [{\"colorbar\": {\"outlinewidth\": 0, \"ticks\": \"\"}, \"colorscale\": [[0.0, \"#0d0887\"], [0.1111111111111111, \"#46039f\"], [0.2222222222222222, \"#7201a8\"], [0.3333333333333333, \"#9c179e\"], [0.4444444444444444, \"#bd3786\"], [0.5555555555555556, \"#d8576b\"], [0.6666666666666666, \"#ed7953\"], [0.7777777777777778, \"#fb9f3a\"], [0.8888888888888888, \"#fdca26\"], [1.0, \"#f0f921\"]], \"type\": \"histogram2d\"}], \"histogram2dcontour\": [{\"colorbar\": {\"outlinewidth\": 0, \"ticks\": \"\"}, \"colorscale\": [[0.0, \"#0d0887\"], [0.1111111111111111, \"#46039f\"], [0.2222222222222222, \"#7201a8\"], [0.3333333333333333, \"#9c179e\"], [0.4444444444444444, \"#bd3786\"], [0.5555555555555556, \"#d8576b\"], [0.6666666666666666, \"#ed7953\"], [0.7777777777777778, \"#fb9f3a\"], [0.8888888888888888, \"#fdca26\"], [1.0, \"#f0f921\"]], \"type\": \"histogram2dcontour\"}], \"mesh3d\": [{\"colorbar\": {\"outlinewidth\": 0, \"ticks\": \"\"}, \"type\": \"mesh3d\"}], \"parcoords\": [{\"line\": {\"colorbar\": {\"outlinewidth\": 0, \"ticks\": \"\"}}, \"type\": \"parcoords\"}], \"pie\": [{\"automargin\": true, \"type\": \"pie\"}], \"scatter\": [{\"marker\": {\"colorbar\": {\"outlinewidth\": 0, \"ticks\": \"\"}}, \"type\": \"scatter\"}], \"scatter3d\": [{\"line\": {\"colorbar\": {\"outlinewidth\": 0, \"ticks\": \"\"}}, \"marker\": {\"colorbar\": {\"outlinewidth\": 0, \"ticks\": \"\"}}, \"type\": \"scatter3d\"}], \"scattercarpet\": [{\"marker\": {\"colorbar\": {\"outlinewidth\": 0, \"ticks\": \"\"}}, \"type\": \"scattercarpet\"}], \"scattergeo\": [{\"marker\": {\"colorbar\": {\"outlinewidth\": 0, \"ticks\": \"\"}}, \"type\": \"scattergeo\"}], \"scattergl\": [{\"marker\": {\"colorbar\": {\"outlinewidth\": 0, \"ticks\": \"\"}}, \"type\": \"scattergl\"}], \"scattermapbox\": [{\"marker\": {\"colorbar\": {\"outlinewidth\": 0, \"ticks\": \"\"}}, \"type\": \"scattermapbox\"}], \"scatterpolar\": [{\"marker\": {\"colorbar\": {\"outlinewidth\": 0, \"ticks\": \"\"}}, \"type\": \"scatterpolar\"}], \"scatterpolargl\": [{\"marker\": {\"colorbar\": {\"outlinewidth\": 0, \"ticks\": \"\"}}, \"type\": \"scatterpolargl\"}], \"scatterternary\": [{\"marker\": {\"colorbar\": {\"outlinewidth\": 0, \"ticks\": \"\"}}, \"type\": \"scatterternary\"}], \"surface\": [{\"colorbar\": {\"outlinewidth\": 0, \"ticks\": \"\"}, \"colorscale\": [[0.0, \"#0d0887\"], [0.1111111111111111, \"#46039f\"], [0.2222222222222222, \"#7201a8\"], [0.3333333333333333, \"#9c179e\"], [0.4444444444444444, \"#bd3786\"], [0.5555555555555556, \"#d8576b\"], [0.6666666666666666, \"#ed7953\"], [0.7777777777777778, \"#fb9f3a\"], [0.8888888888888888, \"#fdca26\"], [1.0, \"#f0f921\"]], \"type\": \"surface\"}], \"table\": [{\"cells\": {\"fill\": {\"color\": \"#EBF0F8\"}, \"line\": {\"color\": \"white\"}}, \"header\": {\"fill\": {\"color\": \"#C8D4E3\"}, \"line\": {\"color\": \"white\"}}, \"type\": \"table\"}]}, \"layout\": {\"annotationdefaults\": {\"arrowcolor\": \"#2a3f5f\", \"arrowhead\": 0, \"arrowwidth\": 1}, \"autotypenumbers\": \"strict\", \"coloraxis\": {\"colorbar\": {\"outlinewidth\": 0, \"ticks\": \"\"}}, \"colorscale\": {\"diverging\": [[0, \"#8e0152\"], [0.1, \"#c51b7d\"], [0.2, \"#de77ae\"], [0.3, \"#f1b6da\"], [0.4, \"#fde0ef\"], [0.5, \"#f7f7f7\"], [0.6, \"#e6f5d0\"], [0.7, \"#b8e186\"], [0.8, \"#7fbc41\"], [0.9, \"#4d9221\"], [1, \"#276419\"]], \"sequential\": [[0.0, \"#0d0887\"], [0.1111111111111111, \"#46039f\"], [0.2222222222222222, \"#7201a8\"], [0.3333333333333333, \"#9c179e\"], [0.4444444444444444, \"#bd3786\"], [0.5555555555555556, \"#d8576b\"], [0.6666666666666666, \"#ed7953\"], [0.7777777777777778, \"#fb9f3a\"], [0.8888888888888888, \"#fdca26\"], [1.0, \"#f0f921\"]], \"sequentialminus\": [[0.0, \"#0d0887\"], [0.1111111111111111, \"#46039f\"], [0.2222222222222222, \"#7201a8\"], [0.3333333333333333, \"#9c179e\"], [0.4444444444444444, \"#bd3786\"], [0.5555555555555556, \"#d8576b\"], [0.6666666666666666, \"#ed7953\"], [0.7777777777777778, \"#fb9f3a\"], [0.8888888888888888, \"#fdca26\"], [1.0, \"#f0f921\"]]}, \"colorway\": [\"#636efa\", \"#EF553B\", \"#00cc96\", \"#ab63fa\", \"#FFA15A\", \"#19d3f3\", \"#FF6692\", \"#B6E880\", \"#FF97FF\", \"#FECB52\"], \"font\": {\"color\": \"#2a3f5f\"}, \"geo\": {\"bgcolor\": \"white\", \"lakecolor\": \"white\", \"landcolor\": \"#E5ECF6\", \"showlakes\": true, \"showland\": true, \"subunitcolor\": \"white\"}, \"hoverlabel\": {\"align\": \"left\"}, \"hovermode\": \"closest\", \"mapbox\": {\"style\": \"light\"}, \"paper_bgcolor\": \"white\", \"plot_bgcolor\": \"#E5ECF6\", \"polar\": {\"angularaxis\": {\"gridcolor\": \"white\", \"linecolor\": \"white\", \"ticks\": \"\"}, \"bgcolor\": \"#E5ECF6\", \"radialaxis\": {\"gridcolor\": \"white\", \"linecolor\": \"white\", \"ticks\": \"\"}}, \"scene\": {\"xaxis\": {\"backgroundcolor\": \"#E5ECF6\", \"gridcolor\": \"white\", \"gridwidth\": 2, \"linecolor\": \"white\", \"showbackground\": true, \"ticks\": \"\", \"zerolinecolor\": \"white\"}, \"yaxis\": {\"backgroundcolor\": \"#E5ECF6\", \"gridcolor\": \"white\", \"gridwidth\": 2, \"linecolor\": \"white\", \"showbackground\": true, \"ticks\": \"\", \"zerolinecolor\": \"white\"}, \"zaxis\": {\"backgroundcolor\": \"#E5ECF6\", \"gridcolor\": \"white\", \"gridwidth\": 2, \"linecolor\": \"white\", \"showbackground\": true, \"ticks\": \"\", \"zerolinecolor\": \"white\"}}, \"shapedefaults\": {\"line\": {\"color\": \"#2a3f5f\"}}, \"ternary\": {\"aaxis\": {\"gridcolor\": \"white\", \"linecolor\": \"white\", \"ticks\": \"\"}, \"baxis\": {\"gridcolor\": \"white\", \"linecolor\": \"white\", \"ticks\": \"\"}, \"bgcolor\": \"#E5ECF6\", \"caxis\": {\"gridcolor\": \"white\", \"linecolor\": \"white\", \"ticks\": \"\"}}, \"title\": {\"x\": 0.05}, \"xaxis\": {\"automargin\": true, \"gridcolor\": \"white\", \"linecolor\": \"white\", \"ticks\": \"\", \"title\": {\"standoff\": 15}, \"zerolinecolor\": \"white\", \"zerolinewidth\": 2}, \"yaxis\": {\"automargin\": true, \"gridcolor\": \"white\", \"linecolor\": \"white\", \"ticks\": \"\", \"title\": {\"standoff\": 15}, \"zerolinecolor\": \"white\", \"zerolinewidth\": 2}}}, \"title\": {\"text\": \"Parallel Coordinate Plot\"}},                        {\"responsive\": true}                    ).then(function(){\n",
       "                            \n",
       "var gd = document.getElementById('e8b306bb-99bf-4b3d-94b9-d690ca322166');\n",
       "var x = new MutationObserver(function (mutations, observer) {{\n",
       "        var display = window.getComputedStyle(gd).display;\n",
       "        if (!display || display === 'none') {{\n",
       "            console.log([gd, 'removed!']);\n",
       "            Plotly.purge(gd);\n",
       "            observer.disconnect();\n",
       "        }}\n",
       "}});\n",
       "\n",
       "// Listen for the removal of the full notebook cells\n",
       "var notebookContainer = gd.closest('#notebook-container');\n",
       "if (notebookContainer) {{\n",
       "    x.observe(notebookContainer, {childList: true});\n",
       "}}\n",
       "\n",
       "// Listen for the clearing of the current output cell\n",
       "var outputEl = gd.closest('.output');\n",
       "if (outputEl) {{\n",
       "    x.observe(outputEl, {childList: true});\n",
       "}}\n",
       "\n",
       "                        })                };                });            </script>        </div>"
      ]
     },
     "metadata": {},
     "output_type": "display_data"
    }
   ],
   "source": [
    "optuna.visualization.plot_parallel_coordinate(study)"
   ]
  },
  {
   "cell_type": "code",
   "execution_count": 22,
   "metadata": {
    "execution": {
     "iopub.execute_input": "2021-03-25T03:57:40.305302Z",
     "iopub.status.busy": "2021-03-25T03:57:40.304535Z",
     "iopub.status.idle": "2021-03-25T03:57:41.753318Z",
     "shell.execute_reply": "2021-03-25T03:57:41.754087Z"
    },
    "papermill": {
     "duration": 1.485031,
     "end_time": "2021-03-25T03:57:41.754261",
     "exception": false,
     "start_time": "2021-03-25T03:57:40.269230",
     "status": "completed"
    },
    "tags": []
   },
   "outputs": [],
   "source": [
    "#model = XGBClassifier(**study.best_trial.params)\n",
    "model = lightgbm.LGBMClassifier(**study.best_trial.params)\n",
    "\n",
    "model.fit(X_train,y_train)\n",
    "pred = model.predict(X_test)"
   ]
  },
  {
   "cell_type": "code",
   "execution_count": 23,
   "metadata": {
    "execution": {
     "iopub.execute_input": "2021-03-25T03:57:41.837352Z",
     "iopub.status.busy": "2021-03-25T03:57:41.836510Z",
     "iopub.status.idle": "2021-03-25T03:57:42.195110Z",
     "shell.execute_reply": "2021-03-25T03:57:42.194239Z"
    },
    "papermill": {
     "duration": 0.405895,
     "end_time": "2021-03-25T03:57:42.195242",
     "exception": false,
     "start_time": "2021-03-25T03:57:41.789347",
     "status": "completed"
    },
    "tags": []
   },
   "outputs": [
    {
     "name": "stdout",
     "output_type": "stream",
     "text": [
      "0.8596810933940775\n"
     ]
    },
    {
     "data": {
      "image/png": "[encoded data removed]",
      "text/plain": [
       "<Figure size 720x720 with 2 Axes>"
      ]
     },
     "metadata": {
      "needs_background": "light"
     },
     "output_type": "display_data"
    }
   ],
   "source": [
    "fig, ax = plt.subplots(figsize=(10, 10))\n",
    "metrics.plot_confusion_matrix(model,X_test,y_test,ax=ax)\n",
    "print(metrics.accuracy_score(y_test,pred))"
   ]
  },
  {
   "cell_type": "code",
   "execution_count": 24,
   "metadata": {
    "execution": {
     "iopub.execute_input": "2021-03-25T03:57:42.280922Z",
     "iopub.status.busy": "2021-03-25T03:57:42.280119Z",
     "iopub.status.idle": "2021-03-25T03:57:42.593591Z",
     "shell.execute_reply": "2021-03-25T03:57:42.594329Z"
    },
    "papermill": {
     "duration": 0.364018,
     "end_time": "2021-03-25T03:57:42.594480",
     "exception": false,
     "start_time": "2021-03-25T03:57:42.230462",
     "status": "completed"
    },
    "tags": []
   },
   "outputs": [
    {
     "data": {
      "text/plain": [
       "<sklearn.metrics._plot.roc_curve.RocCurveDisplay at 0x7f040c011ad0>"
      ]
     },
     "execution_count": 24,
     "metadata": {},
     "output_type": "execute_result"
    },
    {
     "data": {
      "image/png": "[encoded data removed]",
      "text/plain": [
       "<Figure size 720x720 with 1 Axes>"
      ]
     },
     "metadata": {
      "needs_background": "light"
     },
     "output_type": "display_data"
    }
   ],
   "source": [
    "fig, ax = plt.subplots(figsize=(10, 10))\n",
    "metrics.plot_roc_curve(model,X_test,y_test,ax=ax)"
   ]
  },
  {
   "cell_type": "code",
   "execution_count": 25,
   "metadata": {
    "execution": {
     "iopub.execute_input": "2021-03-25T03:57:42.673304Z",
     "iopub.status.busy": "2021-03-25T03:57:42.672507Z",
     "iopub.status.idle": "2021-03-25T03:57:42.995139Z",
     "shell.execute_reply": "2021-03-25T03:57:42.994727Z"
    },
    "papermill": {
     "duration": 0.366782,
     "end_time": "2021-03-25T03:57:42.995257",
     "exception": false,
     "start_time": "2021-03-25T03:57:42.628475",
     "status": "completed"
    },
    "tags": []
   },
   "outputs": [
    {
     "data": {
      "text/plain": [
       "<sklearn.metrics._plot.precision_recall_curve.PrecisionRecallDisplay at 0x7f03b87522d0>"
      ]
     },
     "execution_count": 25,
     "metadata": {},
     "output_type": "execute_result"
    },
    {
     "data": {
      "image/png": "[encoded data removed]",
      "text/plain": [
       "<Figure size 864x720 with 1 Axes>"
      ]
     },
     "metadata": {
      "needs_background": "light"
     },
     "output_type": "display_data"
    }
   ],
   "source": [
    "from sklearn.metrics import precision_recall_curve\n",
    "from sklearn.metrics import plot_precision_recall_curve\n",
    "\n",
    "fig, ax = plt.subplots(figsize=(12, 10))\n",
    "plot_precision_recall_curve(model,X_test,y_test,ax=ax)"
   ]
  }
 ],
 "metadata": {
  "kernelspec": {
   "display_name": "Python 3",
   "language": "python",
   "name": "python3"
  },
  "language_info": {
   "codemirror_mode": {
    "name": "ipython",
    "version": 3
   },
   "file_extension": ".py",
   "mimetype": "text/x-python",
   "name": "python",
   "nbconvert_exporter": "python",
   "pygments_lexer": "ipython3",
   "version": "3.7.9"
  },
  "papermill": {
   "default_parameters": {},
   "duration": 162.442104,
   "end_time": "2021-03-25T03:57:44.140545",
   "environment_variables": {},
   "exception": null,
   "input_path": "__notebook__.ipynb",
   "output_path": "__notebook__.ipynb",
   "parameters": {},
   "start_time": "2021-03-25T03:55:01.698441",
   "version": "2.2.2"
  }
 },
 "nbformat": 4,
 "nbformat_minor": 4
}
